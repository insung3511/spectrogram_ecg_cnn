{
 "cells": [
  {
   "cell_type": "code",
   "execution_count": 1,
   "metadata": {},
   "outputs": [],
   "source": [
    "from sklearn.model_selection import train_test_split\n",
    "import matplotlib.pyplot as plt\n",
    "from scipy.signal import stft\n",
    "from scipy import signal\n",
    "from tqdm import tqdm\n",
    "import numpy as np\n",
    "import random\n",
    "import pickle\n",
    "import cv2\n",
    "import os\n",
    "\n",
    "from tensorflow.keras.callbacks import EarlyStopping, ModelCheckpoint\n",
    "from tensorflow.keras import layers\n",
    "from tensorflow import keras\n",
    "import tensorflow as tf\n",
    "\n",
    "EPOCH = 100\n",
    "KERNEL_SIZE = 3\n",
    "BATCH_SIZE = 200\n",
    "IMAGE_HEIGHT = 512\n",
    "IMAGE_WIDTH = 512\n",
    "\n",
    "DATA_PATH = \"./mit_data/\"\n",
    "SAVE_PATH = \"./graph_data/\""
   ]
  },
  {
   "cell_type": "code",
   "execution_count": 2,
   "metadata": {},
   "outputs": [
    {
     "name": "stdout",
     "output_type": "stream",
     "text": [
      "[INFO] Current path : ./graph_data/F\n"
     ]
    },
    {
     "name": "stderr",
     "output_type": "stream",
     "text": [
      "100%|██████████| 803/803 [00:00<00:00, 1036.32it/s]\n"
     ]
    },
    {
     "name": "stdout",
     "output_type": "stream",
     "text": [
      "[INFO] Current path : ./graph_data/N\n"
     ]
    },
    {
     "name": "stderr",
     "output_type": "stream",
     "text": [
      "100%|██████████| 90631/90631 [01:30<00:00, 998.35it/s] \n"
     ]
    },
    {
     "name": "stdout",
     "output_type": "stream",
     "text": [
      "[INFO] Current path : ./graph_data/Q\n"
     ]
    },
    {
     "name": "stderr",
     "output_type": "stream",
     "text": [
      "100%|██████████| 11148/11148 [00:11<00:00, 950.48it/s]\n"
     ]
    },
    {
     "name": "stdout",
     "output_type": "stream",
     "text": [
      "[INFO] Current path : ./graph_data/S\n"
     ]
    },
    {
     "name": "stderr",
     "output_type": "stream",
     "text": [
      "100%|██████████| 2781/2781 [00:02<00:00, 940.34it/s]\n"
     ]
    },
    {
     "name": "stdout",
     "output_type": "stream",
     "text": [
      "[INFO] Current path : ./graph_data/V\n"
     ]
    },
    {
     "name": "stderr",
     "output_type": "stream",
     "text": [
      "100%|██████████| 7236/7236 [00:07<00:00, 938.98it/s]\n"
     ]
    }
   ],
   "source": [
    "parents_path = SAVE_PATH\n",
    "child_path = os.listdir(parents_path)\n",
    "\n",
    "temp_converted_img = list()\n",
    "temp_ann_list = list()\n",
    "converted_img = list()\n",
    "X = (list())\n",
    "y = (list())\n",
    "\n",
    "for pic_path in (child_path):\n",
    "    current_path = os.listdir(parents_path + pic_path)\n",
    "    print(\"[INFO] Current path : \" + parents_path + pic_path)\n",
    "    for file_name in tqdm(current_path):\n",
    "        path_for_array = parents_path + pic_path + \"/\" + file_name\n",
    "        \n",
    "        img = cv2.imread(path_for_array)\n",
    "        img = cv2.cvtColor(img, cv2.COLOR_BGR2RGB)\n",
    "        img_resize = cv2.resize(img, dsize=(64, 64), interpolation=cv2.INTER_AREA)\n",
    "        temp_converted_img.append(img_resize / 255.0)\n",
    "        \n",
    "        check_ann = pic_path\n",
    "                \n",
    "        if check_ann == \"N\":            # Normal\n",
    "            temp_ann_list.append([1, 0, 0, 0, 0])\n",
    "        \n",
    "        elif check_ann == \"S\":          # Supra-ventricular\n",
    "            temp_ann_list.append([0, 1, 0, 0, 0])\n",
    "        \n",
    "        elif check_ann == \"V\":          # Ventricular\n",
    "            temp_ann_list.append([0, 0, 1, 0, 0])\n",
    "        \n",
    "        elif check_ann == \"F\":          # False alarm\n",
    "            temp_ann_list.append([0, 0, 0, 1, 0])\n",
    "        \n",
    "        else:                           # Unclassed \n",
    "            temp_ann_list.append([0, 0, 0, 0, 1])\n",
    "    \n",
    "    y.append(temp_ann_list)"
   ]
  },
  {
   "cell_type": "code",
   "execution_count": 3,
   "metadata": {},
   "outputs": [],
   "source": [
    "# 경로에 폴더가 없으면 폴더 만들기\n",
    "def createDirectory(directory):\n",
    "    try:\n",
    "        if not os.path.exists(directory):\n",
    "            os.makedirs(directory)\n",
    "    except OSError:\n",
    "        print(\"Error: Failed to create the directory.\")"
   ]
  },
  {
   "cell_type": "code",
   "execution_count": 4,
   "metadata": {},
   "outputs": [],
   "source": [
    "onehot_y = np.array(temp_ann_list)\n",
    "temp_converted_img = np.array(temp_converted_img)"
   ]
  },
  {
   "cell_type": "code",
   "execution_count": 5,
   "metadata": {},
   "outputs": [
    {
     "name": "stdout",
     "output_type": "stream",
     "text": [
      "[SIZE]\t\tNpX lenght : (75441, 64, 64, 3)\n",
      "\t\tNpY length : (75441, 5)\n",
      "[SIZE]\t\tX_validation length : (12263, 64, 64, 3)\n",
      "\t\ty_validation length : (12263, 5)\n",
      "[SIZE]\t\tX_test length : (24895, 64, 64, 3)\n",
      "\t\ty_test length : (24895, 5)\n"
     ]
    }
   ],
   "source": [
    "X_train, X_test, y_train, y_test = train_test_split(temp_converted_img, onehot_y, test_size=0.33, random_state=42, shuffle=True)\n",
    "X_test, X_val, y_test, y_val = train_test_split(X_test, y_test, test_size=0.33, random_state=42, shuffle=True)\n",
    "\n",
    "print(\"[SIZE]\\t\\tNpX lenght : {}\\n\\t\\tNpY length : {}\".format(X_train.shape, y_train.shape))\n",
    "print(\"[SIZE]\\t\\tX_validation length : {}\\n\\t\\ty_validation length : {}\".format(X_val.shape, y_val.shape))\n",
    "print(\"[SIZE]\\t\\tX_test length : {}\\n\\t\\ty_test length : {}\".format(X_test.shape, y_test.shape))"
   ]
  },
  {
   "cell_type": "code",
   "execution_count": 6,
   "metadata": {},
   "outputs": [
    {
     "data": {
      "image/png": "[encoded data removed]",
      "text/plain": [
       "<Figure size 2160x864 with 16 Axes>"
      ]
     },
     "metadata": {
      "needs_background": "light"
     },
     "output_type": "display_data"
    }
   ],
   "source": [
    "# 랜덤으로 뽑아서 뿌려보기\n",
    "\n",
    "import matplotlib.pyplot as plt\n",
    "import random\n",
    "%matplotlib inline\n",
    "\n",
    "plt.figure(figsize=(30, 12))\n",
    "plt.suptitle(\"random pal, per PAL\", fontsize=18)\n",
    "n = 0\n",
    "random.seed(11)\n",
    "for i in random.sample(range(6480), 16):\n",
    "    ax = plt.subplot(5, 5, n+1)\n",
    "    plt.imshow(temp_converted_img[i], interpolation='nearest')\n",
    "    ax.set_title(str(onehot_y[i]))\n",
    "    n+=1"
   ]
  },
  {
   "cell_type": "code",
   "execution_count": 7,
   "metadata": {},
   "outputs": [],
   "source": [
    "input_size = (64, 64, 3)\n",
    "\n",
    "models = keras.Sequential([\n",
    "    layers.Conv2D(8, kernel_size=(4, 4), activation='relu', input_shape=input_size),\n",
    "    layers.MaxPool2D(pool_size=(2, 2)),\n",
    "\n",
    "    layers.Conv2D(13, kernel_size=(2, 2), activation='relu', input_shape=input_size),\n",
    "    layers.MaxPool2D(pool_size=(2, 2)),\n",
    "\n",
    "    layers.Conv2D(13, kernel_size=(2, 2), activation='relu', input_shape=input_size),\n",
    "    layers.MaxPool2D(pool_size=(2, 2)),\n",
    "\n",
    "    layers.Flatten(),\n",
    "    layers.Dropout(0.5),\n",
    "    layers.Dense(512, activation='relu'),\n",
    "    layers.Dense(5, activation='softmax')\n",
    "])"
   ]
  },
  {
   "cell_type": "code",
   "execution_count": 8,
   "metadata": {},
   "outputs": [
    {
     "name": "stdout",
     "output_type": "stream",
     "text": [
      "Model: \"sequential\"\n",
      "_________________________________________________________________\n",
      " Layer (type)                Output Shape              Param #   \n",
      "=================================================================\n",
      " conv2d (Conv2D)             (None, 61, 61, 8)         392       \n",
      "                                                                 \n",
      " max_pooling2d (MaxPooling2D  (None, 30, 30, 8)        0         \n",
      " )                                                               \n",
      "                                                                 \n",
      " conv2d_1 (Conv2D)           (None, 29, 29, 13)        429       \n",
      "                                                                 \n",
      " max_pooling2d_1 (MaxPooling  (None, 14, 14, 13)       0         \n",
      " 2D)                                                             \n",
      "                                                                 \n",
      " conv2d_2 (Conv2D)           (None, 13, 13, 13)        689       \n",
      "                                                                 \n",
      " max_pooling2d_2 (MaxPooling  (None, 6, 6, 13)         0         \n",
      " 2D)                                                             \n",
      "                                                                 \n",
      " flatten (Flatten)           (None, 468)               0         \n",
      "                                                                 \n",
      " dropout (Dropout)           (None, 468)               0         \n",
      "                                                                 \n",
      " dense (Dense)               (None, 512)               240128    \n",
      "                                                                 \n",
      " dense_1 (Dense)             (None, 5)                 2565      \n",
      "                                                                 \n",
      "=================================================================\n",
      "Total params: 244,203\n",
      "Trainable params: 244,203\n",
      "Non-trainable params: 0\n",
      "_________________________________________________________________\n"
     ]
    }
   ],
   "source": [
    "models.summary()"
   ]
  },
  {
   "cell_type": "code",
   "execution_count": 9,
   "metadata": {},
   "outputs": [],
   "source": [
    "models.compile(\n",
    "        optimizer='adam',\n",
    "        # loss=\"sparse_categorical_crossentropy\",\n",
    "        loss='categorical_crossentropy',\n",
    "        metrics=['accuracy']\n",
    ")"
   ]
  },
  {
   "cell_type": "code",
   "execution_count": 10,
   "metadata": {},
   "outputs": [],
   "source": [
    "# 콜백 설정\n",
    "outDir = './cheakpoint/raw_signal/' # 이 경로에 best 모델이 저장된다.\n",
    "model_names = outDir + 'weights-{val_accuracy:.4f}.h5'\n",
    "\n",
    "def get_callbacks(patience = 50):\n",
    "    # with tf.device('/device:GPU:0'):\n",
    "        earlystop = EarlyStopping(monitor='val_accuracy', min_delta=0.0001, patience=patience)\n",
    "        model_checkpoint = ModelCheckpoint(model_names, monitor='val_accuracy', verbose=1, save_best_only=True, period = 1)\n",
    "\n",
    "        callbacks = [model_checkpoint]\n",
    "        return callbacks"
   ]
  },
  {
   "cell_type": "code",
   "execution_count": 11,
   "metadata": {},
   "outputs": [
    {
     "name": "stdout",
     "output_type": "stream",
     "text": [
      "[name: \"/device:CPU:0\"\n",
      "device_type: \"CPU\"\n",
      "memory_limit: 268435456\n",
      "locality {\n",
      "}\n",
      "incarnation: 2376177228210930559\n",
      "xla_global_id: -1\n",
      ", name: \"/device:GPU:0\"\n",
      "device_type: \"GPU\"\n",
      "memory_limit: 5443503718\n",
      "locality {\n",
      "  bus_id: 1\n",
      "  links {\n",
      "  }\n",
      "}\n",
      "incarnation: 15776794707584625657\n",
      "physical_device_desc: \"device: 0, name: NVIDIA GeForce RTX 2070, pci bus id: 0000:02:00.0, compute capability: 7.5\"\n",
      "xla_global_id: 416903419\n",
      "]\n"
     ]
    }
   ],
   "source": [
    "from tensorflow.python.client import device_lib \n",
    "# strategy = tf.distribute.MirroredStrategy()\n",
    "\n",
    "# with strategy.scope():\n",
    "#     # with tf.device('/device:GPU:0'):\n",
    "print(device_lib.list_local_devices())"
   ]
  },
  {
   "cell_type": "code",
   "execution_count": 12,
   "metadata": {},
   "outputs": [],
   "source": [
    "# # 그래픽 카드 둘로 쓰기 (두개 있을때, 하나만 있다면 0)\n",
    "# # gpu idx 를 0 또는 1 로 설정하시오\n",
    "# import tensorflow as tf \n",
    "# import os\n",
    "\n",
    "# os.environ[\"CUDA_DEVICE_ORDER\"]= \"PCI_BUS_ID\"\n",
    "# os.environ[\"CUDA_VISIBLE_DEVICES\"] = \"0\" # gpu idx\n",
    "\n",
    "# tf.config.set_soft_device_placement(True)\n",
    "# tf.debugging.set_log_device_placement(True)\n"
   ]
  },
  {
   "cell_type": "code",
   "execution_count": 13,
   "metadata": {},
   "outputs": [
    {
     "name": "stdout",
     "output_type": "stream",
     "text": [
      "WARNING:tensorflow:`period` argument is deprecated. Please use `save_freq` to specify the frequency in number of batches seen.\n",
      "Epoch 1/100\n",
      "378/378 [==============================] - ETA: 0s - loss: 0.4993 - accuracy: 0.8488\n",
      "Epoch 1: val_accuracy improved from -inf to 0.92832, saving model to ./cheakpoint/raw_signal\\weights-0.9283.h5\n",
      "378/378 [==============================] - 10s 15ms/step - loss: 0.4993 - accuracy: 0.8488 - val_loss: 0.2365 - val_accuracy: 0.9283\n",
      "Epoch 2/100\n",
      "376/378 [============================>.] - ETA: 0s - loss: 0.2332 - accuracy: 0.9307\n",
      "Epoch 2: val_accuracy improved from 0.92832 to 0.95442, saving model to ./cheakpoint/raw_signal\\weights-0.9544.h5\n",
      "378/378 [==============================] - 5s 12ms/step - loss: 0.2331 - accuracy: 0.9307 - val_loss: 0.1490 - val_accuracy: 0.9544\n",
      "Epoch 3/100\n",
      "376/378 [============================>.] - ETA: 0s - loss: 0.1741 - accuracy: 0.9471\n",
      "Epoch 3: val_accuracy improved from 0.95442 to 0.95972, saving model to ./cheakpoint/raw_signal\\weights-0.9597.h5\n",
      "378/378 [==============================] - 5s 12ms/step - loss: 0.1739 - accuracy: 0.9472 - val_loss: 0.1212 - val_accuracy: 0.9597\n",
      "Epoch 4/100\n",
      "377/378 [============================>.] - ETA: 0s - loss: 0.1468 - accuracy: 0.9549\n",
      "Epoch 4: val_accuracy improved from 0.95972 to 0.96730, saving model to ./cheakpoint/raw_signal\\weights-0.9673.h5\n",
      "378/378 [==============================] - 5s 12ms/step - loss: 0.1468 - accuracy: 0.9548 - val_loss: 0.1064 - val_accuracy: 0.9673\n",
      "Epoch 5/100\n",
      "378/378 [==============================] - ETA: 0s - loss: 0.1289 - accuracy: 0.9610\n",
      "Epoch 5: val_accuracy improved from 0.96730 to 0.97325, saving model to ./cheakpoint/raw_signal\\weights-0.9733.h5\n",
      "378/378 [==============================] - 5s 12ms/step - loss: 0.1289 - accuracy: 0.9610 - val_loss: 0.0933 - val_accuracy: 0.9733\n",
      "Epoch 6/100\n",
      "376/378 [============================>.] - ETA: 0s - loss: 0.1160 - accuracy: 0.9653\n",
      "Epoch 6: val_accuracy improved from 0.97325 to 0.97497, saving model to ./cheakpoint/raw_signal\\weights-0.9750.h5\n",
      "378/378 [==============================] - 5s 12ms/step - loss: 0.1160 - accuracy: 0.9653 - val_loss: 0.0883 - val_accuracy: 0.9750\n",
      "Epoch 7/100\n",
      "376/378 [============================>.] - ETA: 0s - loss: 0.1071 - accuracy: 0.9671\n",
      "Epoch 7: val_accuracy improved from 0.97497 to 0.97717, saving model to ./cheakpoint/raw_signal\\weights-0.9772.h5\n",
      "378/378 [==============================] - 5s 12ms/step - loss: 0.1073 - accuracy: 0.9670 - val_loss: 0.0799 - val_accuracy: 0.9772\n",
      "Epoch 8/100\n",
      "376/378 [============================>.] - ETA: 0s - loss: 0.1011 - accuracy: 0.9694\n",
      "Epoch 8: val_accuracy improved from 0.97717 to 0.97782, saving model to ./cheakpoint/raw_signal\\weights-0.9778.h5\n",
      "378/378 [==============================] - 5s 12ms/step - loss: 0.1011 - accuracy: 0.9694 - val_loss: 0.0758 - val_accuracy: 0.9778\n",
      "Epoch 9/100\n",
      "376/378 [============================>.] - ETA: 0s - loss: 0.0935 - accuracy: 0.9719\n",
      "Epoch 9: val_accuracy improved from 0.97782 to 0.97929, saving model to ./cheakpoint/raw_signal\\weights-0.9793.h5\n",
      "378/378 [==============================] - 5s 12ms/step - loss: 0.0935 - accuracy: 0.9719 - val_loss: 0.0721 - val_accuracy: 0.9793\n",
      "Epoch 10/100\n",
      "376/378 [============================>.] - ETA: 0s - loss: 0.0884 - accuracy: 0.9729\n",
      "Epoch 10: val_accuracy did not improve from 0.97929\n",
      "378/378 [==============================] - 5s 12ms/step - loss: 0.0884 - accuracy: 0.9729 - val_loss: 0.0742 - val_accuracy: 0.9780\n",
      "Epoch 11/100\n",
      "376/378 [============================>.] - ETA: 0s - loss: 0.0836 - accuracy: 0.9741\n",
      "Epoch 11: val_accuracy improved from 0.97929 to 0.97978, saving model to ./cheakpoint/raw_signal\\weights-0.9798.h5\n",
      "378/378 [==============================] - 5s 12ms/step - loss: 0.0836 - accuracy: 0.9741 - val_loss: 0.0702 - val_accuracy: 0.9798\n",
      "Epoch 12/100\n",
      "377/378 [============================>.] - ETA: 0s - loss: 0.0802 - accuracy: 0.9754\n",
      "Epoch 12: val_accuracy improved from 0.97978 to 0.98059, saving model to ./cheakpoint/raw_signal\\weights-0.9806.h5\n",
      "378/378 [==============================] - 5s 12ms/step - loss: 0.0803 - accuracy: 0.9754 - val_loss: 0.0678 - val_accuracy: 0.9806\n",
      "Epoch 13/100\n",
      "376/378 [============================>.] - ETA: 0s - loss: 0.0774 - accuracy: 0.9760\n",
      "Epoch 13: val_accuracy improved from 0.98059 to 0.98076, saving model to ./cheakpoint/raw_signal\\weights-0.9808.h5\n",
      "378/378 [==============================] - 5s 12ms/step - loss: 0.0776 - accuracy: 0.9759 - val_loss: 0.0662 - val_accuracy: 0.9808\n",
      "Epoch 14/100\n",
      "376/378 [============================>.] - ETA: 0s - loss: 0.0749 - accuracy: 0.9768\n",
      "Epoch 14: val_accuracy did not improve from 0.98076\n",
      "378/378 [==============================] - 5s 12ms/step - loss: 0.0748 - accuracy: 0.9768 - val_loss: 0.0676 - val_accuracy: 0.9805\n",
      "Epoch 15/100\n",
      "378/378 [==============================] - ETA: 0s - loss: 0.0718 - accuracy: 0.9767\n",
      "Epoch 15: val_accuracy improved from 0.98076 to 0.98190, saving model to ./cheakpoint/raw_signal\\weights-0.9819.h5\n",
      "378/378 [==============================] - 5s 12ms/step - loss: 0.0718 - accuracy: 0.9767 - val_loss: 0.0627 - val_accuracy: 0.9819\n",
      "Epoch 16/100\n",
      "374/378 [============================>.] - ETA: 0s - loss: 0.0690 - accuracy: 0.9784\n",
      "Epoch 16: val_accuracy did not improve from 0.98190\n",
      "378/378 [==============================] - 5s 12ms/step - loss: 0.0688 - accuracy: 0.9784 - val_loss: 0.0649 - val_accuracy: 0.9811\n",
      "Epoch 17/100\n",
      "377/378 [============================>.] - ETA: 0s - loss: 0.0674 - accuracy: 0.9787\n",
      "Epoch 17: val_accuracy improved from 0.98190 to 0.98271, saving model to ./cheakpoint/raw_signal\\weights-0.9827.h5\n",
      "378/378 [==============================] - 5s 12ms/step - loss: 0.0674 - accuracy: 0.9788 - val_loss: 0.0609 - val_accuracy: 0.9827\n",
      "Epoch 18/100\n",
      "376/378 [============================>.] - ETA: 0s - loss: 0.0649 - accuracy: 0.9795\n",
      "Epoch 18: val_accuracy did not improve from 0.98271\n",
      "378/378 [==============================] - 5s 12ms/step - loss: 0.0648 - accuracy: 0.9796 - val_loss: 0.0635 - val_accuracy: 0.9819\n",
      "Epoch 19/100\n",
      "377/378 [============================>.] - ETA: 0s - loss: 0.0605 - accuracy: 0.9804\n",
      "Epoch 19: val_accuracy did not improve from 0.98271\n",
      "378/378 [==============================] - 5s 12ms/step - loss: 0.0604 - accuracy: 0.9804 - val_loss: 0.0645 - val_accuracy: 0.9813\n",
      "Epoch 20/100\n",
      "376/378 [============================>.] - ETA: 0s - loss: 0.0618 - accuracy: 0.9801\n",
      "Epoch 20: val_accuracy did not improve from 0.98271\n",
      "378/378 [==============================] - 5s 12ms/step - loss: 0.0618 - accuracy: 0.9801 - val_loss: 0.0614 - val_accuracy: 0.9821\n",
      "Epoch 21/100\n",
      "376/378 [============================>.] - ETA: 0s - loss: 0.0596 - accuracy: 0.9812\n",
      "Epoch 21: val_accuracy did not improve from 0.98271\n",
      "378/378 [==============================] - 5s 12ms/step - loss: 0.0596 - accuracy: 0.9812 - val_loss: 0.0590 - val_accuracy: 0.9827\n",
      "Epoch 22/100\n",
      "376/378 [============================>.] - ETA: 0s - loss: 0.0585 - accuracy: 0.9814\n",
      "Epoch 22: val_accuracy did not improve from 0.98271\n",
      "378/378 [==============================] - 5s 12ms/step - loss: 0.0586 - accuracy: 0.9814 - val_loss: 0.0630 - val_accuracy: 0.9819\n",
      "Epoch 23/100\n",
      "376/378 [============================>.] - ETA: 0s - loss: 0.0555 - accuracy: 0.9821\n",
      "Epoch 23: val_accuracy did not improve from 0.98271\n",
      "378/378 [==============================] - 5s 12ms/step - loss: 0.0554 - accuracy: 0.9821 - val_loss: 0.0599 - val_accuracy: 0.9826\n",
      "Epoch 24/100\n",
      "376/378 [============================>.] - ETA: 0s - loss: 0.0574 - accuracy: 0.9817\n",
      "Epoch 24: val_accuracy improved from 0.98271 to 0.98312, saving model to ./cheakpoint/raw_signal\\weights-0.9831.h5\n",
      "378/378 [==============================] - 5s 12ms/step - loss: 0.0574 - accuracy: 0.9817 - val_loss: 0.0592 - val_accuracy: 0.9831\n",
      "Epoch 25/100\n",
      "376/378 [============================>.] - ETA: 0s - loss: 0.0522 - accuracy: 0.9829\n",
      "Epoch 25: val_accuracy did not improve from 0.98312\n",
      "378/378 [==============================] - 5s 12ms/step - loss: 0.0524 - accuracy: 0.9829 - val_loss: 0.0601 - val_accuracy: 0.9825\n",
      "Epoch 26/100\n",
      "376/378 [============================>.] - ETA: 0s - loss: 0.0524 - accuracy: 0.9832\n",
      "Epoch 26: val_accuracy did not improve from 0.98312\n",
      "378/378 [==============================] - 5s 12ms/step - loss: 0.0523 - accuracy: 0.9832 - val_loss: 0.0581 - val_accuracy: 0.9830\n",
      "Epoch 27/100\n",
      "377/378 [============================>.] - ETA: 0s - loss: 0.0521 - accuracy: 0.9832\n",
      "Epoch 27: val_accuracy improved from 0.98312 to 0.98353, saving model to ./cheakpoint/raw_signal\\weights-0.9835.h5\n",
      "378/378 [==============================] - 5s 12ms/step - loss: 0.0521 - accuracy: 0.9832 - val_loss: 0.0583 - val_accuracy: 0.9835\n",
      "Epoch 28/100\n",
      "376/378 [============================>.] - ETA: 0s - loss: 0.0506 - accuracy: 0.9843\n",
      "Epoch 28: val_accuracy improved from 0.98353 to 0.98394, saving model to ./cheakpoint/raw_signal\\weights-0.9839.h5\n",
      "378/378 [==============================] - 5s 12ms/step - loss: 0.0507 - accuracy: 0.9842 - val_loss: 0.0569 - val_accuracy: 0.9839\n",
      "Epoch 29/100\n",
      "376/378 [============================>.] - ETA: 0s - loss: 0.0499 - accuracy: 0.9839\n",
      "Epoch 29: val_accuracy did not improve from 0.98394\n",
      "378/378 [==============================] - 5s 12ms/step - loss: 0.0499 - accuracy: 0.9839 - val_loss: 0.0573 - val_accuracy: 0.9833\n",
      "Epoch 30/100\n",
      "377/378 [============================>.] - ETA: 0s - loss: 0.0475 - accuracy: 0.9844\n",
      "Epoch 30: val_accuracy did not improve from 0.98394\n",
      "378/378 [==============================] - 5s 12ms/step - loss: 0.0475 - accuracy: 0.9844 - val_loss: 0.0572 - val_accuracy: 0.9830\n",
      "Epoch 31/100\n",
      "376/378 [============================>.] - ETA: 0s - loss: 0.0478 - accuracy: 0.9842\n",
      "Epoch 31: val_accuracy improved from 0.98394 to 0.98442, saving model to ./cheakpoint/raw_signal\\weights-0.9844.h5\n",
      "378/378 [==============================] - 5s 12ms/step - loss: 0.0477 - accuracy: 0.9842 - val_loss: 0.0553 - val_accuracy: 0.9844\n",
      "Epoch 32/100\n",
      "376/378 [============================>.] - ETA: 0s - loss: 0.0468 - accuracy: 0.9849\n",
      "Epoch 32: val_accuracy did not improve from 0.98442\n",
      "378/378 [==============================] - 5s 12ms/step - loss: 0.0468 - accuracy: 0.9849 - val_loss: 0.0599 - val_accuracy: 0.9832\n",
      "Epoch 33/100\n",
      "376/378 [============================>.] - ETA: 0s - loss: 0.0468 - accuracy: 0.9843\n",
      "Epoch 33: val_accuracy improved from 0.98442 to 0.98451, saving model to ./cheakpoint/raw_signal\\weights-0.9845.h5\n",
      "378/378 [==============================] - 5s 12ms/step - loss: 0.0468 - accuracy: 0.9843 - val_loss: 0.0543 - val_accuracy: 0.9845\n",
      "Epoch 34/100\n",
      "376/378 [============================>.] - ETA: 0s - loss: 0.0463 - accuracy: 0.9847\n",
      "Epoch 34: val_accuracy improved from 0.98451 to 0.98467, saving model to ./cheakpoint/raw_signal\\weights-0.9847.h5\n",
      "378/378 [==============================] - 5s 12ms/step - loss: 0.0463 - accuracy: 0.9847 - val_loss: 0.0557 - val_accuracy: 0.9847\n",
      "Epoch 35/100\n",
      "376/378 [============================>.] - ETA: 0s - loss: 0.0447 - accuracy: 0.9851\n",
      "Epoch 35: val_accuracy improved from 0.98467 to 0.98475, saving model to ./cheakpoint/raw_signal\\weights-0.9848.h5\n",
      "378/378 [==============================] - 5s 12ms/step - loss: 0.0447 - accuracy: 0.9852 - val_loss: 0.0534 - val_accuracy: 0.9848\n",
      "Epoch 36/100\n",
      "377/378 [============================>.] - ETA: 0s - loss: 0.0439 - accuracy: 0.9857\n",
      "Epoch 36: val_accuracy did not improve from 0.98475\n",
      "378/378 [==============================] - 5s 12ms/step - loss: 0.0438 - accuracy: 0.9858 - val_loss: 0.0566 - val_accuracy: 0.9839\n",
      "Epoch 37/100\n",
      "376/378 [============================>.] - ETA: 0s - loss: 0.0419 - accuracy: 0.9860\n",
      "Epoch 37: val_accuracy did not improve from 0.98475\n",
      "378/378 [==============================] - 5s 12ms/step - loss: 0.0421 - accuracy: 0.9859 - val_loss: 0.0588 - val_accuracy: 0.9827\n",
      "Epoch 38/100\n",
      "376/378 [============================>.] - ETA: 0s - loss: 0.0423 - accuracy: 0.9861\n",
      "Epoch 38: val_accuracy did not improve from 0.98475\n",
      "378/378 [==============================] - 5s 12ms/step - loss: 0.0423 - accuracy: 0.9861 - val_loss: 0.0555 - val_accuracy: 0.9841\n",
      "Epoch 39/100\n",
      "376/378 [============================>.] - ETA: 0s - loss: 0.0419 - accuracy: 0.9857\n",
      "Epoch 39: val_accuracy did not improve from 0.98475\n",
      "378/378 [==============================] - 5s 12ms/step - loss: 0.0420 - accuracy: 0.9857 - val_loss: 0.0546 - val_accuracy: 0.9842\n",
      "Epoch 40/100\n",
      "378/378 [==============================] - ETA: 0s - loss: 0.0420 - accuracy: 0.9855\n",
      "Epoch 40: val_accuracy did not improve from 0.98475\n",
      "378/378 [==============================] - 5s 12ms/step - loss: 0.0420 - accuracy: 0.9855 - val_loss: 0.0609 - val_accuracy: 0.9824\n",
      "Epoch 41/100\n",
      "376/378 [============================>.] - ETA: 0s - loss: 0.0401 - accuracy: 0.9866\n",
      "Epoch 41: val_accuracy did not improve from 0.98475\n",
      "378/378 [==============================] - 5s 12ms/step - loss: 0.0401 - accuracy: 0.9866 - val_loss: 0.0544 - val_accuracy: 0.9846\n",
      "Epoch 42/100\n",
      "376/378 [============================>.] - ETA: 0s - loss: 0.0408 - accuracy: 0.9862\n",
      "Epoch 42: val_accuracy did not improve from 0.98475\n",
      "378/378 [==============================] - 5s 12ms/step - loss: 0.0407 - accuracy: 0.9862 - val_loss: 0.0567 - val_accuracy: 0.9836\n",
      "Epoch 43/100\n",
      "376/378 [============================>.] - ETA: 0s - loss: 0.0383 - accuracy: 0.9874\n",
      "Epoch 43: val_accuracy did not improve from 0.98475\n",
      "378/378 [==============================] - 5s 12ms/step - loss: 0.0382 - accuracy: 0.9874 - val_loss: 0.0556 - val_accuracy: 0.9848\n",
      "Epoch 44/100\n",
      "376/378 [============================>.] - ETA: 0s - loss: 0.0399 - accuracy: 0.9868\n",
      "Epoch 44: val_accuracy did not improve from 0.98475\n",
      "378/378 [==============================] - 5s 12ms/step - loss: 0.0399 - accuracy: 0.9868 - val_loss: 0.0560 - val_accuracy: 0.9843\n",
      "Epoch 45/100\n",
      "377/378 [============================>.] - ETA: 0s - loss: 0.0391 - accuracy: 0.9867\n",
      "Epoch 45: val_accuracy did not improve from 0.98475\n",
      "378/378 [==============================] - 5s 12ms/step - loss: 0.0391 - accuracy: 0.9867 - val_loss: 0.0548 - val_accuracy: 0.9844\n",
      "Epoch 46/100\n",
      "376/378 [============================>.] - ETA: 0s - loss: 0.0391 - accuracy: 0.9864\n",
      "Epoch 46: val_accuracy improved from 0.98475 to 0.98491, saving model to ./cheakpoint/raw_signal\\weights-0.9849.h5\n",
      "378/378 [==============================] - 5s 12ms/step - loss: 0.0392 - accuracy: 0.9863 - val_loss: 0.0541 - val_accuracy: 0.9849\n",
      "Epoch 47/100\n",
      "376/378 [============================>.] - ETA: 0s - loss: 0.0357 - accuracy: 0.9880\n",
      "Epoch 47: val_accuracy did not improve from 0.98491\n",
      "378/378 [==============================] - 5s 12ms/step - loss: 0.0358 - accuracy: 0.9879 - val_loss: 0.0565 - val_accuracy: 0.9846\n",
      "Epoch 48/100\n",
      "376/378 [============================>.] - ETA: 0s - loss: 0.0367 - accuracy: 0.9880\n",
      "Epoch 48: val_accuracy did not improve from 0.98491\n",
      "378/378 [==============================] - 5s 12ms/step - loss: 0.0367 - accuracy: 0.9880 - val_loss: 0.0563 - val_accuracy: 0.9842\n",
      "Epoch 49/100\n",
      "376/378 [============================>.] - ETA: 0s - loss: 0.0371 - accuracy: 0.9877\n",
      "Epoch 49: val_accuracy did not improve from 0.98491\n",
      "378/378 [==============================] - 5s 12ms/step - loss: 0.0371 - accuracy: 0.9877 - val_loss: 0.0564 - val_accuracy: 0.9843\n",
      "Epoch 50/100\n",
      "377/378 [============================>.] - ETA: 0s - loss: 0.0361 - accuracy: 0.9877\n",
      "Epoch 50: val_accuracy did not improve from 0.98491\n",
      "378/378 [==============================] - 5s 12ms/step - loss: 0.0361 - accuracy: 0.9876 - val_loss: 0.0576 - val_accuracy: 0.9847\n",
      "Epoch 51/100\n",
      "376/378 [============================>.] - ETA: 0s - loss: 0.0358 - accuracy: 0.9880\n",
      "Epoch 51: val_accuracy did not improve from 0.98491\n",
      "378/378 [==============================] - 5s 12ms/step - loss: 0.0357 - accuracy: 0.9880 - val_loss: 0.0551 - val_accuracy: 0.9840\n",
      "Epoch 52/100\n",
      "376/378 [============================>.] - ETA: 0s - loss: 0.0358 - accuracy: 0.9880\n",
      "Epoch 52: val_accuracy did not improve from 0.98491\n",
      "378/378 [==============================] - 5s 12ms/step - loss: 0.0357 - accuracy: 0.9880 - val_loss: 0.0577 - val_accuracy: 0.9843\n",
      "Epoch 53/100\n",
      "376/378 [============================>.] - ETA: 0s - loss: 0.0357 - accuracy: 0.9881\n",
      "Epoch 53: val_accuracy improved from 0.98491 to 0.98524, saving model to ./cheakpoint/raw_signal\\weights-0.9852.h5\n",
      "378/378 [==============================] - 5s 12ms/step - loss: 0.0357 - accuracy: 0.9881 - val_loss: 0.0554 - val_accuracy: 0.9852\n",
      "Epoch 54/100\n",
      "375/378 [============================>.] - ETA: 0s - loss: 0.0348 - accuracy: 0.9882\n",
      "Epoch 54: val_accuracy did not improve from 0.98524\n",
      "378/378 [==============================] - 5s 12ms/step - loss: 0.0349 - accuracy: 0.9881 - val_loss: 0.0544 - val_accuracy: 0.9847\n",
      "Epoch 55/100\n",
      "375/378 [============================>.] - ETA: 0s - loss: 0.0333 - accuracy: 0.9888\n",
      "Epoch 55: val_accuracy did not improve from 0.98524\n",
      "378/378 [==============================] - 5s 12ms/step - loss: 0.0333 - accuracy: 0.9888 - val_loss: 0.0543 - val_accuracy: 0.9852\n",
      "Epoch 56/100\n",
      "376/378 [============================>.] - ETA: 0s - loss: 0.0333 - accuracy: 0.9887\n",
      "Epoch 56: val_accuracy did not improve from 0.98524\n",
      "378/378 [==============================] - 5s 12ms/step - loss: 0.0333 - accuracy: 0.9887 - val_loss: 0.0569 - val_accuracy: 0.9841\n",
      "Epoch 57/100\n",
      "376/378 [============================>.] - ETA: 0s - loss: 0.0341 - accuracy: 0.9886\n",
      "Epoch 57: val_accuracy did not improve from 0.98524\n",
      "378/378 [==============================] - 5s 12ms/step - loss: 0.0343 - accuracy: 0.9885 - val_loss: 0.0558 - val_accuracy: 0.9845\n",
      "Epoch 58/100\n",
      "376/378 [============================>.] - ETA: 0s - loss: 0.0328 - accuracy: 0.9888\n",
      "Epoch 58: val_accuracy did not improve from 0.98524\n",
      "378/378 [==============================] - 5s 12ms/step - loss: 0.0330 - accuracy: 0.9888 - val_loss: 0.0603 - val_accuracy: 0.9846\n",
      "Epoch 59/100\n",
      "377/378 [============================>.] - ETA: 0s - loss: 0.0324 - accuracy: 0.9893\n",
      "Epoch 59: val_accuracy improved from 0.98524 to 0.98557, saving model to ./cheakpoint/raw_signal\\weights-0.9856.h5\n",
      "378/378 [==============================] - 5s 12ms/step - loss: 0.0324 - accuracy: 0.9893 - val_loss: 0.0546 - val_accuracy: 0.9856\n",
      "Epoch 60/100\n",
      "377/378 [============================>.] - ETA: 0s - loss: 0.0309 - accuracy: 0.9896\n",
      "Epoch 60: val_accuracy did not improve from 0.98557\n",
      "378/378 [==============================] - 5s 12ms/step - loss: 0.0309 - accuracy: 0.9896 - val_loss: 0.0575 - val_accuracy: 0.9837\n",
      "Epoch 61/100\n",
      "375/378 [============================>.] - ETA: 0s - loss: 0.0317 - accuracy: 0.9892\n",
      "Epoch 61: val_accuracy did not improve from 0.98557\n",
      "378/378 [==============================] - 5s 12ms/step - loss: 0.0318 - accuracy: 0.9892 - val_loss: 0.0554 - val_accuracy: 0.9850\n",
      "Epoch 62/100\n",
      "376/378 [============================>.] - ETA: 0s - loss: 0.0310 - accuracy: 0.9894\n",
      "Epoch 62: val_accuracy did not improve from 0.98557\n",
      "378/378 [==============================] - 5s 12ms/step - loss: 0.0309 - accuracy: 0.9894 - val_loss: 0.0540 - val_accuracy: 0.9847\n",
      "Epoch 63/100\n",
      "376/378 [============================>.] - ETA: 0s - loss: 0.0330 - accuracy: 0.9887\n",
      "Epoch 63: val_accuracy did not improve from 0.98557\n",
      "378/378 [==============================] - 5s 12ms/step - loss: 0.0330 - accuracy: 0.9887 - val_loss: 0.0538 - val_accuracy: 0.9838\n",
      "Epoch 64/100\n",
      "376/378 [============================>.] - ETA: 0s - loss: 0.0314 - accuracy: 0.9894\n",
      "Epoch 64: val_accuracy did not improve from 0.98557\n",
      "378/378 [==============================] - 5s 12ms/step - loss: 0.0315 - accuracy: 0.9894 - val_loss: 0.0588 - val_accuracy: 0.9843\n",
      "Epoch 65/100\n",
      "376/378 [============================>.] - ETA: 0s - loss: 0.0311 - accuracy: 0.9896\n",
      "Epoch 65: val_accuracy did not improve from 0.98557\n",
      "378/378 [==============================] - 5s 12ms/step - loss: 0.0311 - accuracy: 0.9896 - val_loss: 0.0573 - val_accuracy: 0.9836\n",
      "Epoch 66/100\n",
      "376/378 [============================>.] - ETA: 0s - loss: 0.0312 - accuracy: 0.9893\n",
      "Epoch 66: val_accuracy did not improve from 0.98557\n",
      "378/378 [==============================] - 5s 12ms/step - loss: 0.0312 - accuracy: 0.9893 - val_loss: 0.0549 - val_accuracy: 0.9844\n",
      "Epoch 67/100\n",
      "377/378 [============================>.] - ETA: 0s - loss: 0.0302 - accuracy: 0.9899\n",
      "Epoch 67: val_accuracy did not improve from 0.98557\n",
      "378/378 [==============================] - 5s 12ms/step - loss: 0.0302 - accuracy: 0.9899 - val_loss: 0.0558 - val_accuracy: 0.9843\n",
      "Epoch 68/100\n",
      "377/378 [============================>.] - ETA: 0s - loss: 0.0309 - accuracy: 0.9895\n",
      "Epoch 68: val_accuracy did not improve from 0.98557\n",
      "378/378 [==============================] - 5s 12ms/step - loss: 0.0309 - accuracy: 0.9894 - val_loss: 0.0534 - val_accuracy: 0.9854\n",
      "Epoch 69/100\n",
      "376/378 [============================>.] - ETA: 0s - loss: 0.0299 - accuracy: 0.9899\n",
      "Epoch 69: val_accuracy did not improve from 0.98557\n",
      "378/378 [==============================] - 5s 12ms/step - loss: 0.0300 - accuracy: 0.9898 - val_loss: 0.0566 - val_accuracy: 0.9843\n",
      "Epoch 70/100\n",
      "376/378 [============================>.] - ETA: 0s - loss: 0.0311 - accuracy: 0.9896\n",
      "Epoch 70: val_accuracy did not improve from 0.98557\n",
      "378/378 [==============================] - 5s 12ms/step - loss: 0.0311 - accuracy: 0.9896 - val_loss: 0.0573 - val_accuracy: 0.9841\n",
      "Epoch 71/100\n",
      "376/378 [============================>.] - ETA: 0s - loss: 0.0300 - accuracy: 0.9898\n",
      "Epoch 71: val_accuracy did not improve from 0.98557\n",
      "378/378 [==============================] - 5s 12ms/step - loss: 0.0300 - accuracy: 0.9898 - val_loss: 0.0592 - val_accuracy: 0.9834\n",
      "Epoch 72/100\n",
      "376/378 [============================>.] - ETA: 0s - loss: 0.0278 - accuracy: 0.9906\n",
      "Epoch 72: val_accuracy did not improve from 0.98557\n",
      "378/378 [==============================] - 5s 12ms/step - loss: 0.0278 - accuracy: 0.9906 - val_loss: 0.0589 - val_accuracy: 0.9849\n",
      "Epoch 73/100\n",
      "376/378 [============================>.] - ETA: 0s - loss: 0.0303 - accuracy: 0.9900\n",
      "Epoch 73: val_accuracy did not improve from 0.98557\n",
      "378/378 [==============================] - 5s 12ms/step - loss: 0.0304 - accuracy: 0.9900 - val_loss: 0.0586 - val_accuracy: 0.9833\n",
      "Epoch 74/100\n",
      "376/378 [============================>.] - ETA: 0s - loss: 0.0300 - accuracy: 0.9898\n",
      "Epoch 74: val_accuracy did not improve from 0.98557\n",
      "378/378 [==============================] - 5s 12ms/step - loss: 0.0299 - accuracy: 0.9898 - val_loss: 0.0574 - val_accuracy: 0.9843\n",
      "Epoch 75/100\n",
      "376/378 [============================>.] - ETA: 0s - loss: 0.0289 - accuracy: 0.9901\n",
      "Epoch 75: val_accuracy did not improve from 0.98557\n",
      "378/378 [==============================] - 5s 12ms/step - loss: 0.0289 - accuracy: 0.9901 - val_loss: 0.0558 - val_accuracy: 0.9847\n",
      "Epoch 76/100\n",
      "376/378 [============================>.] - ETA: 0s - loss: 0.0275 - accuracy: 0.9906\n",
      "Epoch 76: val_accuracy improved from 0.98557 to 0.98606, saving model to ./cheakpoint/raw_signal\\weights-0.9861.h5\n",
      "378/378 [==============================] - 5s 12ms/step - loss: 0.0275 - accuracy: 0.9906 - val_loss: 0.0574 - val_accuracy: 0.9861\n",
      "Epoch 77/100\n",
      "377/378 [============================>.] - ETA: 0s - loss: 0.0285 - accuracy: 0.9905\n",
      "Epoch 77: val_accuracy did not improve from 0.98606\n",
      "378/378 [==============================] - 5s 12ms/step - loss: 0.0286 - accuracy: 0.9905 - val_loss: 0.0552 - val_accuracy: 0.9854\n",
      "Epoch 78/100\n",
      "377/378 [============================>.] - ETA: 0s - loss: 0.0285 - accuracy: 0.9903\n",
      "Epoch 78: val_accuracy did not improve from 0.98606\n",
      "378/378 [==============================] - 5s 12ms/step - loss: 0.0284 - accuracy: 0.9903 - val_loss: 0.0576 - val_accuracy: 0.9856\n",
      "Epoch 79/100\n",
      "377/378 [============================>.] - ETA: 0s - loss: 0.0281 - accuracy: 0.9910\n",
      "Epoch 79: val_accuracy did not improve from 0.98606\n",
      "378/378 [==============================] - 5s 12ms/step - loss: 0.0281 - accuracy: 0.9910 - val_loss: 0.0577 - val_accuracy: 0.9850\n",
      "Epoch 80/100\n",
      "376/378 [============================>.] - ETA: 0s - loss: 0.0283 - accuracy: 0.9906\n",
      "Epoch 80: val_accuracy did not improve from 0.98606\n",
      "378/378 [==============================] - 5s 12ms/step - loss: 0.0282 - accuracy: 0.9906 - val_loss: 0.0581 - val_accuracy: 0.9856\n",
      "Epoch 81/100\n",
      "377/378 [============================>.] - ETA: 0s - loss: 0.0266 - accuracy: 0.9911\n",
      "Epoch 81: val_accuracy did not improve from 0.98606\n",
      "378/378 [==============================] - 5s 12ms/step - loss: 0.0267 - accuracy: 0.9910 - val_loss: 0.0574 - val_accuracy: 0.9847\n",
      "Epoch 82/100\n",
      "376/378 [============================>.] - ETA: 0s - loss: 0.0293 - accuracy: 0.9900\n",
      "Epoch 82: val_accuracy did not improve from 0.98606\n",
      "378/378 [==============================] - 5s 12ms/step - loss: 0.0292 - accuracy: 0.9900 - val_loss: 0.0563 - val_accuracy: 0.9844\n",
      "Epoch 83/100\n",
      "375/378 [============================>.] - ETA: 0s - loss: 0.0268 - accuracy: 0.9909\n",
      "Epoch 83: val_accuracy did not improve from 0.98606\n",
      "378/378 [==============================] - 5s 12ms/step - loss: 0.0267 - accuracy: 0.9909 - val_loss: 0.0576 - val_accuracy: 0.9849\n",
      "Epoch 84/100\n",
      "376/378 [============================>.] - ETA: 0s - loss: 0.0259 - accuracy: 0.9909\n",
      "Epoch 84: val_accuracy did not improve from 0.98606\n",
      "378/378 [==============================] - 5s 12ms/step - loss: 0.0260 - accuracy: 0.9909 - val_loss: 0.0584 - val_accuracy: 0.9849\n",
      "Epoch 85/100\n",
      "376/378 [============================>.] - ETA: 0s - loss: 0.0280 - accuracy: 0.9906\n",
      "Epoch 85: val_accuracy did not improve from 0.98606\n",
      "378/378 [==============================] - 5s 12ms/step - loss: 0.0279 - accuracy: 0.9906 - val_loss: 0.0593 - val_accuracy: 0.9853\n",
      "Epoch 86/100\n",
      "376/378 [============================>.] - ETA: 0s - loss: 0.0265 - accuracy: 0.9908\n",
      "Epoch 86: val_accuracy did not improve from 0.98606\n",
      "378/378 [==============================] - 5s 12ms/step - loss: 0.0264 - accuracy: 0.9908 - val_loss: 0.0583 - val_accuracy: 0.9849\n",
      "Epoch 87/100\n",
      "377/378 [============================>.] - ETA: 0s - loss: 0.0261 - accuracy: 0.9912\n",
      "Epoch 87: val_accuracy did not improve from 0.98606\n",
      "378/378 [==============================] - 5s 12ms/step - loss: 0.0261 - accuracy: 0.9912 - val_loss: 0.0602 - val_accuracy: 0.9841\n",
      "Epoch 88/100\n",
      "376/378 [============================>.] - ETA: 0s - loss: 0.0273 - accuracy: 0.9908\n",
      "Epoch 88: val_accuracy did not improve from 0.98606\n",
      "378/378 [==============================] - 5s 12ms/step - loss: 0.0273 - accuracy: 0.9908 - val_loss: 0.0586 - val_accuracy: 0.9844\n",
      "Epoch 89/100\n",
      "376/378 [============================>.] - ETA: 0s - loss: 0.0255 - accuracy: 0.9913\n",
      "Epoch 89: val_accuracy did not improve from 0.98606\n",
      "378/378 [==============================] - 5s 12ms/step - loss: 0.0254 - accuracy: 0.9913 - val_loss: 0.0598 - val_accuracy: 0.9848\n",
      "Epoch 90/100\n",
      "376/378 [============================>.] - ETA: 0s - loss: 0.0255 - accuracy: 0.9915\n",
      "Epoch 90: val_accuracy did not improve from 0.98606\n",
      "378/378 [==============================] - 5s 12ms/step - loss: 0.0256 - accuracy: 0.9915 - val_loss: 0.0563 - val_accuracy: 0.9850\n",
      "Epoch 91/100\n",
      "377/378 [============================>.] - ETA: 0s - loss: 0.0254 - accuracy: 0.9910\n",
      "Epoch 91: val_accuracy did not improve from 0.98606\n",
      "378/378 [==============================] - 5s 12ms/step - loss: 0.0254 - accuracy: 0.9910 - val_loss: 0.0543 - val_accuracy: 0.9856\n",
      "Epoch 92/100\n",
      "376/378 [============================>.] - ETA: 0s - loss: 0.0253 - accuracy: 0.9912\n",
      "Epoch 92: val_accuracy did not improve from 0.98606\n",
      "378/378 [==============================] - 5s 12ms/step - loss: 0.0253 - accuracy: 0.9912 - val_loss: 0.0589 - val_accuracy: 0.9857\n",
      "Epoch 93/100\n",
      "374/378 [============================>.] - ETA: 0s - loss: 0.0257 - accuracy: 0.9911\n",
      "Epoch 93: val_accuracy did not improve from 0.98606\n",
      "378/378 [==============================] - 5s 12ms/step - loss: 0.0256 - accuracy: 0.9911 - val_loss: 0.0564 - val_accuracy: 0.9854\n",
      "Epoch 94/100\n",
      "375/378 [============================>.] - ETA: 0s - loss: 0.0262 - accuracy: 0.9910\n",
      "Epoch 94: val_accuracy did not improve from 0.98606\n",
      "378/378 [==============================] - 5s 12ms/step - loss: 0.0262 - accuracy: 0.9910 - val_loss: 0.0577 - val_accuracy: 0.9850\n",
      "Epoch 95/100\n",
      "376/378 [============================>.] - ETA: 0s - loss: 0.0245 - accuracy: 0.9916\n",
      "Epoch 95: val_accuracy did not improve from 0.98606\n",
      "378/378 [==============================] - 5s 12ms/step - loss: 0.0245 - accuracy: 0.9916 - val_loss: 0.0555 - val_accuracy: 0.9847\n",
      "Epoch 96/100\n",
      "377/378 [============================>.] - ETA: 0s - loss: 0.0249 - accuracy: 0.9913\n",
      "Epoch 96: val_accuracy did not improve from 0.98606\n",
      "378/378 [==============================] - 5s 12ms/step - loss: 0.0249 - accuracy: 0.9913 - val_loss: 0.0591 - val_accuracy: 0.9850\n",
      "Epoch 97/100\n",
      "376/378 [============================>.] - ETA: 0s - loss: 0.0256 - accuracy: 0.9912\n",
      "Epoch 97: val_accuracy did not improve from 0.98606\n",
      "378/378 [==============================] - 5s 12ms/step - loss: 0.0256 - accuracy: 0.9912 - val_loss: 0.0584 - val_accuracy: 0.9842\n",
      "Epoch 98/100\n",
      "378/378 [==============================] - ETA: 0s - loss: 0.0249 - accuracy: 0.9916\n",
      "Epoch 98: val_accuracy did not improve from 0.98606\n",
      "378/378 [==============================] - 5s 12ms/step - loss: 0.0249 - accuracy: 0.9916 - val_loss: 0.0556 - val_accuracy: 0.9852\n",
      "Epoch 99/100\n",
      "376/378 [============================>.] - ETA: 0s - loss: 0.0257 - accuracy: 0.9913\n",
      "Epoch 99: val_accuracy did not improve from 0.98606\n",
      "378/378 [==============================] - 5s 12ms/step - loss: 0.0257 - accuracy: 0.9913 - val_loss: 0.0563 - val_accuracy: 0.9853\n",
      "Epoch 100/100\n",
      "377/378 [============================>.] - ETA: 0s - loss: 0.0268 - accuracy: 0.9913\n",
      "Epoch 100: val_accuracy did not improve from 0.98606\n",
      "378/378 [==============================] - 5s 12ms/step - loss: 0.0269 - accuracy: 0.9913 - val_loss: 0.0563 - val_accuracy: 0.9852\n"
     ]
    }
   ],
   "source": [
    "callbacks = get_callbacks()\n",
    "# strategy = tf.distribute.MirroredStrategy()\n",
    "# tf.config.set_soft_device_placement(True)\n",
    "tf.debugging.set_log_device_placement(True)\n",
    "\n",
    "models_hist = models.fit(\n",
    "    X_train,\n",
    "    y_train,\n",
    "    batch_size=BATCH_SIZE,\n",
    "    epochs=100,\n",
    "    validation_data=(X_val, y_val),\n",
    "    callbacks = [callbacks]\n",
    ")"
   ]
  },
  {
   "cell_type": "markdown",
   "metadata": {},
   "source": [
    "# 결과 시각화 하기"
   ]
  },
  {
   "cell_type": "code",
   "execution_count": 14,
   "metadata": {},
   "outputs": [],
   "source": [
    "# 학습 된 모델의 학습 과정 시각화\n",
    "def plot_model__hist(hist):\n",
    "    path = './cheakpoint/lefms/' # loss, accuracy 그래프 저장할 path\n",
    "    createDirectory(path)\n",
    "\n",
    "    # loss 추이 그래프로 그려서 저장\n",
    "    plt.figure(figsize=(6,6))\n",
    "    plt.style.use(\"ggplot\")\n",
    "    plt.plot(hist.history['loss'], color='b', label=\"Training loss\")\n",
    "    plt.plot(hist.history['val_loss'], color='r', label=\"Validation loss\")\n",
    "    plt.savefig(path + 'model_loss_hist.png')\n",
    "    plt.legend()\n",
    "    plt.show()\n",
    "\n",
    "    # accuracy 추이 그래프로 그려서 저장\n",
    "    plt.figure(figsize=(6,6))\n",
    "    plt.style.use(\"ggplot\")\n",
    "    plt.plot(hist.history['accuracy'], color='b', label=\"Training accuracy\")\n",
    "    plt.plot(hist.history['val_accuracy'], color='r',label=\"Validation accuracy\")\n",
    "    plt.savefig(path + 'model_loss_hist.png')\n",
    "    plt.legend(loc = \"lower right\")\n",
    "    plt.show()"
   ]
  },
  {
   "cell_type": "code",
   "execution_count": 16,
   "metadata": {},
   "outputs": [
    {
     "data": {
      "image/png": "[encoded data removed]",
      "text/plain": [
       "<Figure size 432x432 with 1 Axes>"
      ]
     },
     "metadata": {},
     "output_type": "display_data"
    },
    {
     "data": {
      "image/png": "[encoded data removed]",
      "text/plain": [
       "<Figure size 432x432 with 1 Axes>"
      ]
     },
     "metadata": {},
     "output_type": "display_data"
    },
    {
     "name": "stdout",
     "output_type": "stream",
     "text": [
      "778/778 - 3s - loss: 0.0578 - accuracy: 0.9850 - 3s/epoch - 4ms/step\n",
      "multi_model의 정확도: 98.50%\n",
      "multi_model의 Loss: 0.05778013914823532\n"
     ]
    }
   ],
   "source": [
    "plot_model__hist(models_hist)\n",
    "loss, acc = models.evaluate(X_test, y_test, verbose=2)\n",
    "print(\"multi_model의 정확도: {:5.2f}%\".format(100*acc))\n",
    "print(\"multi_model의 Loss: {}\".format(loss))"
   ]
  },
  {
   "cell_type": "markdown",
   "metadata": {},
   "source": [
    "# 모델 불러와서 confusion matrix 그리기"
   ]
  },
  {
   "cell_type": "code",
   "execution_count": 17,
   "metadata": {},
   "outputs": [],
   "source": [
    "tf.keras.backend.clear_session()"
   ]
  },
  {
   "cell_type": "code",
   "execution_count": 18,
   "metadata": {},
   "outputs": [],
   "source": [
    "# 모델 불러오기\n",
    "reconstructed_model = keras.models.load_model(\"./cheakpoint/raw_signal/weights-0.9861.h5\")"
   ]
  },
  {
   "cell_type": "code",
   "execution_count": 19,
   "metadata": {},
   "outputs": [
    {
     "name": "stdout",
     "output_type": "stream",
     "text": [
      "778/778 [==============================] - 2s 3ms/step\n"
     ]
    }
   ],
   "source": [
    "# 예측값 얻기\n",
    "y_pred = reconstructed_model.predict(X_test)"
   ]
  },
  {
   "cell_type": "code",
   "execution_count": 20,
   "metadata": {},
   "outputs": [],
   "source": [
    "# one hat encoding 를 하나의 변수로 바꾸기\n",
    "new_y= []\n",
    "for val in y_test:\n",
    "    max = 0\n",
    "    cnt = 0\n",
    "    for idx, num in enumerate(val):\n",
    "        if max < num:\n",
    "            max = num\n",
    "            cnt = idx + 1\n",
    "    new_y.append(cnt)"
   ]
  },
  {
   "cell_type": "code",
   "execution_count": 21,
   "metadata": {},
   "outputs": [],
   "source": [
    "# one hat encoding 를 하나의 변수로 바꾸기\n",
    "new_y_pred = []\n",
    "for val in y_pred:\n",
    "    max = 0\n",
    "    cnt = 0\n",
    "    for idx, num in enumerate(val):\n",
    "        if max < num:\n",
    "            max = num\n",
    "            cnt = idx + 1\n",
    "    new_y_pred.append(cnt)"
   ]
  },
  {
   "cell_type": "code",
   "execution_count": 22,
   "metadata": {},
   "outputs": [
    {
     "name": "stdout",
     "output_type": "stream",
     "text": [
      "778/778 [==============================] - 5s 6ms/step - loss: 0.0570 - accuracy: 0.9852\n",
      "정답률 =  0.9852179288864136 loss= 0.056981753557920456\n"
     ]
    }
   ],
   "source": [
    "# 최종 정확도 산출\n",
    "score = reconstructed_model.evaluate(X_test, y_test, verbose=1)\n",
    "print('정답률 = ', score[1],'loss=', score[0])"
   ]
  },
  {
   "cell_type": "code",
   "execution_count": 23,
   "metadata": {},
   "outputs": [],
   "source": [
    "import seaborn"
   ]
  },
  {
   "cell_type": "code",
   "execution_count": 24,
   "metadata": {},
   "outputs": [
    {
     "data": {
      "image/png": "[encoded data removed]",
      "text/plain": [
       "<Figure size 432x288 with 2 Axes>"
      ]
     },
     "metadata": {},
     "output_type": "display_data"
    }
   ],
   "source": [
    "# 개수 버전\n",
    "from sklearn.metrics import classification_report, confusion_matrix, precision_score, recall_score, f1_score\n",
    "import seaborn as sns\n",
    "\n",
    "cm2 = confusion_matrix(new_y, new_y_pred)\n",
    "sns.heatmap(cm2, annot = True, fmt = 'd', cmap= 'Reds')\n",
    "plt.xlabel('predict')\n",
    "plt.ylabel('real')\n",
    "plt.xticks([0.5, 1.5, 2.5, 3.5, 4.5], ['0 = N', '1 = S', '2 = V', '3 = F', '4 = Q'])\n",
    "plt.yticks([0.5, 1.5, 2.5, 3.5, 4.5], ['0 = N', '1 = S', '2 = V', '3 = F', '4 = Q'])\n",
    "plt.show()"
   ]
  },
  {
   "cell_type": "code",
   "execution_count": 25,
   "metadata": {},
   "outputs": [
    {
     "data": {
      "image/png": "[encoded data removed]",
      "text/plain": [
       "<Figure size 432x288 with 2 Axes>"
      ]
     },
     "metadata": {},
     "output_type": "display_data"
    }
   ],
   "source": [
    "# percentile 버전\n",
    "total = np.sum(cm2, axis=1)\n",
    "cm2_percentile = cm2/total[:,None]\n",
    "sns.heatmap(np.round(cm2_percentile,3), annot = True, cmap= 'Reds')\n",
    "plt.xlabel('predict')\n",
    "plt.ylabel('real')\n",
    "plt.xticks([0.5, 1.5, 2.5, 3.5, 4.5], ['0 = N', '1 = S', '2 = V', '3 = F', '4 = Q'])\n",
    "plt.yticks([0.5, 1.5, 2.5, 3.5, 4.5], ['0 = N', '1 = S', '2 = V', '3 = F', '4 = Q'])\n",
    "plt.show()"
   ]
  },
  {
   "cell_type": "code",
   "execution_count": 26,
   "metadata": {},
   "outputs": [
    {
     "data": {
      "text/plain": [
       "array([[19960,    33,    33,     8,    25],\n",
       "       [   74,   528,     7,     0,     1],\n",
       "       [   51,     2,  1479,    12,     9],\n",
       "       [   29,     0,     4,   149,     0],\n",
       "       [   53,     3,    24,     0,  2411]], dtype=int64)"
      ]
     },
     "execution_count": 26,
     "metadata": {},
     "output_type": "execute_result"
    }
   ],
   "source": [
    "from sklearn.metrics import confusion_matrix\n",
    "confusion_matrix(new_y, new_y_pred)"
   ]
  },
  {
   "cell_type": "code",
   "execution_count": 27,
   "metadata": {},
   "outputs": [
    {
     "name": "stdout",
     "output_type": "stream",
     "text": [
      "              precision    recall  f1-score   support\n",
      "\n",
      "       0 = N       0.99      1.00      0.99     20059\n",
      "       1 = S       0.93      0.87      0.90       610\n",
      "       2 = V       0.96      0.95      0.95      1553\n",
      "       3 = F       0.88      0.82      0.85       182\n",
      "       4 = Q       0.99      0.97      0.98      2491\n",
      "\n",
      "    accuracy                           0.99     24895\n",
      "   macro avg       0.95      0.92      0.93     24895\n",
      "weighted avg       0.99      0.99      0.99     24895\n",
      "\n"
     ]
    }
   ],
   "source": [
    "# classification_report 그리기\n",
    "from sklearn.metrics import classification_report\n",
    "target_names = ['0 = N', '1 = S', '2 = V', '3 = F', '4 = Q']\n",
    "print(classification_report(new_y, new_y_pred, target_names=target_names))"
   ]
  },
  {
   "cell_type": "code",
   "execution_count": null,
   "metadata": {},
   "outputs": [],
   "source": []
  }
 ],
 "metadata": {
  "kernelspec": {
   "display_name": "Python 3.9.13 ('gpu-tf')",
   "language": "python",
   "name": "python3"
  },
  "language_info": {
   "codemirror_mode": {
    "name": "ipython",
    "version": 3
   },
   "file_extension": ".py",
   "mimetype": "text/x-python",
   "name": "python",
   "nbconvert_exporter": "python",
   "pygments_lexer": "ipython3",
   "version": "3.9.13"
  },
  "orig_nbformat": 4,
  "vscode": {
   "interpreter": {
    "hash": "8f2ebc1b1865a26aaddfec20fe081a030ec8f24eea6acc3ab57dec62885edc43"
   }
  }
 },
 "nbformat": 4,
 "nbformat_minor": 2
}
