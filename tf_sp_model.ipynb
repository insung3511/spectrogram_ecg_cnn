{
 "cells": [
  {
   "cell_type": "code",
   "execution_count": 19,
   "metadata": {},
   "outputs": [],
   "source": [
    "import matplotlib.pyplot as plt\n",
    "from scipy.signal import stft\n",
    "from scipy import signal\n",
    "from tqdm import tqdm\n",
    "import numpy as np\n",
    "import pathlib\n",
    "import pickle\n",
    "import os\n",
    "\n",
    "from tensorflow.keras.callbacks import EarlyStopping, ModelCheckpoint\n",
    "from tensorflow.keras import layers\n",
    "from tensorflow import keras\n",
    "\n",
    "EPOCH = 100\n",
    "KERNEL_SIZE = 3\n",
    "BATCH_SIZE = 128\n",
    "IMAGE_HEIGHT = 512\n",
    "IMAGE_WIDTH = 512\n",
    "\n",
    "DATA_PATH = \"./pickle_files/\"\n",
    "SAVE_PATH = \"./spectrogram_plt/\""
   ]
  },
  {
   "cell_type": "code",
   "execution_count": 20,
   "metadata": {},
   "outputs": [
    {
     "name": "stdout",
     "output_type": "stream",
     "text": [
      "[INFO] Read records file from  ./pickle_files/\n"
     ]
    },
    {
     "name": "stderr",
     "output_type": "stream",
     "text": [
      "100%|██████████| 48/48 [00:01<00:00, 47.06it/s]\n"
     ]
    }
   ],
   "source": [
    "record_list = []\n",
    "pickle_input = dict()\n",
    "X, y = [], []\n",
    "\n",
    "print(\"[INFO] Read records file from \", DATA_PATH)\n",
    "with open(DATA_PATH + 'RECORDS') as f:\n",
    "    record_lines = f.readlines()\n",
    "\n",
    "for i in range(len(record_lines)):\n",
    "    record_list.append(str(record_lines[i].strip()))\n",
    "\n",
    "for i in tqdm(range(len(record_list))):\n",
    "    temp_path = DATA_PATH + \"mit\" + record_list[i] + \".pkl\"\n",
    "    with open(temp_path, 'rb') as f:\n",
    "        pickle_input = pickle.load(f)\n",
    "        for i in range(len(pickle_input[0])):\n",
    "            X.append(pickle_input[0][i])\n",
    "\n",
    "        for i in range(len(pickle_input[1])):\n",
    "            check_ann = pickle_input[1][i]\n",
    "            temp_ann_list = list()\n",
    "            if check_ann == \"N\":            # Normal\n",
    "                temp_ann_list.append(0)\n",
    "\n",
    "            elif check_ann == \"S\":          # Supra-ventricular\n",
    "                temp_ann_list.append(1)\n",
    "\n",
    "            elif check_ann == \"V\":          # Ventricular\n",
    "                temp_ann_list.append(2)\n",
    "\n",
    "            elif check_ann == \"F\":          # False alarm\n",
    "                temp_ann_list.append(3)\n",
    "\n",
    "            else:                           # Unclassed \n",
    "                temp_ann_list.append(4)\n",
    "            y.append(temp_ann_list)"
   ]
  },
  {
   "cell_type": "code",
   "execution_count": null,
   "metadata": {},
   "outputs": [],
   "source": [
    "# 경로에 폴더가 없으면 폴더 만들기\n",
    "def createDirectory(directory):\n",
    "    try:\n",
    "        if not os.path.exists(directory):\n",
    "            os.makedirs(directory)\n",
    "    except OSError:\n",
    "        print(\"Error: Failed to create the directory.\")"
   ]
  },
  {
   "cell_type": "code",
   "execution_count": 5,
   "metadata": {},
   "outputs": [],
   "source": [
    "# fs = 36e3\n",
    "# N = 1e3\n",
    "# amp = 2 * np.sqrt(2)\n",
    "# time = np.arange(N) / float(fs)\n",
    "# for record in  X:\n",
    "#     f, t, Sxx = signal.spectrogram(record, fs)\n",
    "#     plt.specgram(Sxx)"
   ]
  },
  {
   "cell_type": "code",
   "execution_count": 6,
   "metadata": {},
   "outputs": [],
   "source": [
    "# transformed_signal = []\n",
    "# dt = 0.001\n",
    "\n",
    "# PATH = \"./spectrogram_plt/\"\n",
    "# createDirectory(PATH)\n",
    "\n",
    "# for cnt in tqdm(range(len(X))):   \n",
    "#     plt.specgram(X[cnt], cmap='jet_r', mode='psd', sides='default')\n",
    "\n",
    "#     SAVE_PATH = PATH + str(cnt) + \"_\" + \".png\"\n",
    "#     plt.interactive(False)\n",
    "#     # print(cnt)\n",
    "                \n",
    "# print(transformed_signal)"
   ]
  },
  {
   "cell_type": "code",
   "execution_count": null,
   "metadata": {},
   "outputs": [],
   "source": [
    "data_dir = pathlib.Path(DATA_PATH)\n",
    "print(data_dir)"
   ]
  },
  {
   "cell_type": "code",
   "execution_count": null,
   "metadata": {},
   "outputs": [],
   "source": [
    "train_ds = keras.preprocessing.image_dataset_from_directory(\n",
    "    data_dir,\n",
    "    validation_split=0.2,\n",
    "    subset=\"training\",\n",
    "    label_mode='int',\n",
    "    # label_mode='categorical',\n",
    "    color_mode='rgb',\n",
    "    seed=1234,\n",
    "    image_size=(IMAGE_HEIGHT, IMAGE_WIDTH),\n",
    "    batch_size=BATCH_SIZE,\n",
    "    shuffle=True\n",
    ")"
   ]
  },
  {
   "cell_type": "code",
   "execution_count": null,
   "metadata": {},
   "outputs": [],
   "source": [
    "val_ds = keras.preprocessing.image_dataset_from_directory(\n",
    "    data_dir,\n",
    "    validation_split=0.2,\n",
    "    subset=\"validation\",\n",
    "    label_mode='int',\n",
    "    # label_mode='categorical',\n",
    "    color_mode='rgb',\n",
    "    seed=1234,\n",
    "    image_size=(IMAGE_HEIGHT, IMAGE_WIDTH),\n",
    "    batch_size=BATCH_SIZE,\n",
    "    shuffle=True\n",
    ")"
   ]
  },
  {
   "cell_type": "code",
   "execution_count": null,
   "metadata": {},
   "outputs": [],
   "source": [
    "print(train_ds.unique)\n",
    "print(val_ds.unique)\n",
    "\n",
    "class_names = train_ds.class_names\n",
    "print(class_names)\n",
    "plt.figure(figsize=(10, 10))\n",
    "\n",
    "for images, labels in train_ds.take(1):\n",
    "  for i in range(10):\n",
    "    ax = plt.subplot(5, 5, i + 1)\n",
    "    plt.imshow(images[i].numpy().astype(\"uint8\"))\n",
    "    plt.title(class_names[labels[i]])\n",
    "    plt.axis(\"off\")"
   ]
  },
  {
   "cell_type": "code",
   "execution_count": 11,
   "metadata": {},
   "outputs": [],
   "source": [
    "input_size = (256, 256, 1)\n",
    "\n",
    "models = keras.Sequential([\n",
    "    # tf.keras.layers.experimental.preprocessing.Rescaling(1./255),\n",
    "    layers.Conv2D(8, kernel_size=(4, 4), activation='relu', input_shape=input_size),\n",
    "    layers.MaxPool2D(pool_size=(2, 2)),\n",
    "\n",
    "    layers.Conv2D(13, kernel_size=(2, 2), activation='relu', input_shape=input_size),\n",
    "    layers.MaxPool2D(pool_size=(2, 2)),\n",
    "\n",
    "    layers.Conv2D(13, kernel_size=(2, 2), activation='relu', input_shape=input_size),\n",
    "    layers.MaxPool2D(pool_size=(2, 2)),\n",
    "\n",
    "    layers.Flatten(),\n",
    "    layers.Dropout(0.5),\n",
    "    layers.Dense(512, activation='relu'),\n",
    "    layers.Dense(5, activation='softmax')\n",
    "])"
   ]
  },
  {
   "cell_type": "code",
   "execution_count": 13,
   "metadata": {},
   "outputs": [
    {
     "name": "stdout",
     "output_type": "stream",
     "text": [
      "Model: \"sequential_2\"\n",
      "_________________________________________________________________\n",
      " Layer (type)                Output Shape              Param #   \n",
      "=================================================================\n",
      " conv2d_9 (Conv2D)           (None, 253, 253, 8)       136       \n",
      "                                                                 \n",
      " max_pooling2d_9 (MaxPooling  (None, 126, 126, 8)      0         \n",
      " 2D)                                                             \n",
      "                                                                 \n",
      " conv2d_10 (Conv2D)          (None, 125, 125, 13)      429       \n",
      "                                                                 \n",
      " max_pooling2d_10 (MaxPoolin  (None, 62, 62, 13)       0         \n",
      " g2D)                                                            \n",
      "                                                                 \n",
      " conv2d_11 (Conv2D)          (None, 61, 61, 13)        689       \n",
      "                                                                 \n",
      " max_pooling2d_11 (MaxPoolin  (None, 30, 30, 13)       0         \n",
      " g2D)                                                            \n",
      "                                                                 \n",
      " flatten_3 (Flatten)         (None, 11700)             0         \n",
      "                                                                 \n",
      " dropout_2 (Dropout)         (None, 11700)             0         \n",
      "                                                                 \n",
      " dense_4 (Dense)             (None, 512)               5990912   \n",
      "                                                                 \n",
      " dense_5 (Dense)             (None, 5)                 2565      \n",
      "                                                                 \n",
      "=================================================================\n",
      "Total params: 5,994,731\n",
      "Trainable params: 5,994,731\n",
      "Non-trainable params: 0\n",
      "_________________________________________________________________\n"
     ]
    }
   ],
   "source": [
    "models.summary()"
   ]
  },
  {
   "cell_type": "code",
   "execution_count": 15,
   "metadata": {},
   "outputs": [],
   "source": [
    "# 콜백 설정\n",
    "outDir = './cheakpoint/lefms_model/' # 이 경로에 best 모델이 저장된다.\n",
    "model_names = outDir + 'weights-{val_accuracy:.4f}.h5'\n",
    "\n",
    "def get_callbacks(patience = 50):\n",
    "    earlystop = EarlyStopping(monitor='val_accuracy', min_delta=0.0001, patience=patience)\n",
    "    model_checkpoint = ModelCheckpoint(model_names, monitor='val_accuracy', verbose=1, save_best_only=True, period = 1)\n",
    "\n",
    "    callbacks = [model_checkpoint]\n",
    "    return callbacks"
   ]
  },
  {
   "cell_type": "code",
   "execution_count": null,
   "metadata": {},
   "outputs": [],
   "source": []
  }
 ],
 "metadata": {
  "kernelspec": {
   "display_name": "Python 3.9.7 ('base')",
   "language": "python",
   "name": "python3"
  },
  "language_info": {
   "codemirror_mode": {
    "name": "ipython",
    "version": 3
   },
   "file_extension": ".py",
   "mimetype": "text/x-python",
   "name": "python",
   "nbconvert_exporter": "python",
   "pygments_lexer": "ipython3",
   "version": "3.9.7"
  },
  "orig_nbformat": 4,
  "vscode": {
   "interpreter": {
    "hash": "6c3cabcf2f29820bdd7faae982b59d335e0d215fb5382d93f3312fa3292e9b7f"
   }
  }
 },
 "nbformat": 4,
 "nbformat_minor": 2
}
