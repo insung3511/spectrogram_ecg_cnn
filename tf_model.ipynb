{
 "cells": [
  {
   "cell_type": "code",
   "execution_count": 1,
   "metadata": {},
   "outputs": [],
   "source": [
    "# # 그래픽 카드 둘로 쓰기 (두개 있을때, 하나만 있다면 0)\n",
    "# # gpu idx 를 0 또는 1 로 설정하시오\n",
    "# import tensorflow as tf \n",
    "# import os\n",
    "\n",
    "# os.environ[\"CUDA_DEVICE_ORDER\"]= \"PCI_BUS_ID\"\n",
    "# os.environ[\"CUDA_VISIBLE_DEVICES\"] = \"0\" # gpu idx\n",
    "\n",
    "# tf.config.set_soft_device_placement(True)\n",
    "# tf.debugging.set_log_device_placement(True)"
   ]
  },
  {
   "cell_type": "code",
   "execution_count": 2,
   "metadata": {},
   "outputs": [],
   "source": [
    "# from tensorflow.python.client import device_lib \n",
    "# import tensorflow as tf \n",
    "\n",
    "# with tf.device('/device:GPU:1'):\n",
    "#     print(device_lib.list_local_devices())"
   ]
  },
  {
   "cell_type": "code",
   "execution_count": 3,
   "metadata": {},
   "outputs": [],
   "source": [
    "# 경로에 폴더가 없으면 폴더 만들기\n",
    "import os\n",
    "\n",
    "def createDirectory(directory):\n",
    "    try:\n",
    "        if not os.path.exists(directory):\n",
    "            os.makedirs(directory)\n",
    "    except OSError:\n",
    "        print(\"Error: Failed to create the directory.\")"
   ]
  },
  {
   "cell_type": "code",
   "execution_count": 4,
   "metadata": {},
   "outputs": [],
   "source": [
    "import matplotlib.pyplot as plt\n",
    "from PIL import Image, ImageOps\n",
    "from tqdm import tqdm\n",
    "import numpy as np\n",
    "import itertools\n",
    "import pathlib\n",
    "import cv2\n",
    "\n",
    "from sklearn.model_selection import train_test_split\n",
    "from tensorflow.keras import layers\n",
    "from tensorflow import keras\n",
    "import tensorflow as tf\n",
    "\n",
    "EPOCH = 100\n",
    "KERNEL_SIZE = 3\n",
    "BATCH_SIZE = 128\n",
    "IMAGE_HEIGHT = 256\n",
    "IMAGE_WIDTH = 256\n",
    "\n",
    "DATA_PATH = \"./graph_data/\"\n",
    "\n",
    "def list_to_list(input_list):\n",
    "    input_list_to_list = list(itertools.chain(*input_list))\n",
    "    return input_list_to_list"
   ]
  },
  {
   "cell_type": "markdown",
   "metadata": {},
   "source": [
    "# 데이터 불러오기"
   ]
  },
  {
   "cell_type": "code",
   "execution_count": 5,
   "metadata": {},
   "outputs": [
    {
     "name": "stdout",
     "output_type": "stream",
     "text": [
      "graph_data\n",
      "112599\n"
     ]
    }
   ],
   "source": [
    "data_dir = pathlib.Path(DATA_PATH)\n",
    "print(data_dir)\n",
    "\n",
    "image_count = len(list(data_dir.glob('*/*.png')))\n",
    "print(image_count)\n",
    "\n",
    "f = list(data_dir.glob('F/*'))\n",
    "n = list(data_dir.glob('N/*'))\n",
    "q = list(data_dir.glob('Q/*'))\n",
    "s = list(data_dir.glob('S/*'))\n",
    "v = list(data_dir.glob('V/*'))"
   ]
  },
  {
   "cell_type": "markdown",
   "metadata": {},
   "source": [
    "# 데이터 split\n",
    "## train, test, validation data 나누기"
   ]
  },
  {
   "cell_type": "code",
   "execution_count": 6,
   "metadata": {},
   "outputs": [],
   "source": [
    "parents_path = DATA_PATH"
   ]
  },
  {
   "cell_type": "code",
   "execution_count": 7,
   "metadata": {},
   "outputs": [
    {
     "name": "stdout",
     "output_type": "stream",
     "text": [
      "[INFO] Current path : ./graph_data/F\n"
     ]
    },
    {
     "name": "stderr",
     "output_type": "stream",
     "text": [
      "100%|██████████| 803/803 [00:05<00:00, 135.24it/s]\n"
     ]
    },
    {
     "name": "stdout",
     "output_type": "stream",
     "text": [
      "[INFO] Current path : ./graph_data/N\n"
     ]
    },
    {
     "name": "stderr",
     "output_type": "stream",
     "text": [
      "100%|██████████| 90631/90631 [11:13<00:00, 134.57it/s]\n"
     ]
    },
    {
     "name": "stdout",
     "output_type": "stream",
     "text": [
      "[INFO] Current path : ./graph_data/Q\n"
     ]
    },
    {
     "name": "stderr",
     "output_type": "stream",
     "text": [
      "100%|██████████| 11148/11148 [01:19<00:00, 140.02it/s]\n"
     ]
    },
    {
     "name": "stdout",
     "output_type": "stream",
     "text": [
      "[INFO] Current path : ./graph_data/S\n"
     ]
    },
    {
     "name": "stderr",
     "output_type": "stream",
     "text": [
      "100%|██████████| 2781/2781 [00:19<00:00, 140.71it/s]\n"
     ]
    },
    {
     "name": "stdout",
     "output_type": "stream",
     "text": [
      "[INFO] Current path : ./graph_data/V\n"
     ]
    },
    {
     "name": "stderr",
     "output_type": "stream",
     "text": [
      "100%|██████████| 7236/7236 [00:51<00:00, 140.79it/s]\n"
     ]
    }
   ],
   "source": [
    "parents_path = DATA_PATH\n",
    "child_path = os.listdir(parents_path)\n",
    "\n",
    "npy_check_list = []\n",
    "\n",
    "temp_converted_img = list()\n",
    "temp_ann_list = list()\n",
    "X = list()\n",
    "y = list()\n",
    "\n",
    "for pic_path in (child_path):\n",
    "    current_path = os.listdir(parents_path + pic_path)\n",
    "    print(\"[INFO] Current path : \" + parents_path + pic_path)\n",
    "    for file_name in tqdm(current_path):\n",
    "        path_for_array = parents_path + pic_path + \"/\" + file_name\n",
    "\n",
    "        img = cv2.imread(path_for_array)\n",
    "        img = cv2.cvtColor(img, cv2.COLOR_BGR2GRAY)\n",
    "        img_resize = cv2.resize(img, dsize=(128, 128), interpolation=cv2.INTER_AREA)\n",
    "        temp_converted_img.append(img_resize / 255.0)\n",
    "        \n",
    "        check_ann = pic_path\n",
    "        \n",
    "        if check_ann == \"N\":            # Normal\n",
    "            temp_ann_list.append([1, 0, 0, 0, 0])\n",
    "        \n",
    "        elif check_ann == \"S\":          # Supra-ventricular\n",
    "            temp_ann_list.append([0, 1, 0, 0, 0])\n",
    "        \n",
    "        elif check_ann == \"V\":          # Ventricular\n",
    "            temp_ann_list.append([0, 0, 1, 0, 0])\n",
    "        \n",
    "        elif check_ann == \"F\":          # False alarm\n",
    "            temp_ann_list.append([0, 0, 0, 1, 0])\n",
    "        \n",
    "        else:                           # Unclassed \n",
    "            temp_ann_list.append([0, 0, 0, 0, 1])\n",
    "    \n",
    "        y.append(temp_ann_list)"
   ]
  },
  {
   "cell_type": "code",
   "execution_count": 8,
   "metadata": {},
   "outputs": [],
   "source": [
    "onehot_y = np.array(temp_ann_list)\n",
    "temp_converted_img = np.array(temp_converted_img)"
   ]
  },
  {
   "cell_type": "code",
   "execution_count": 9,
   "metadata": {},
   "outputs": [
    {
     "name": "stdout",
     "output_type": "stream",
     "text": [
      "[SIZE]\t\tNpX lenght : (75441, 128, 128)\n",
      "\t\tNpY length : (75441, 5)\n",
      "[SIZE]\t\tX_validation length : (12263, 128, 128)\n",
      "\t\ty_validation length : (12263, 5)\n",
      "[SIZE]\t\tX_test length : (24895, 128, 128)\n",
      "\t\ty_test length : (24895, 5)\n"
     ]
    }
   ],
   "source": [
    "X_train, X_test, y_train, y_test = train_test_split(temp_converted_img, onehot_y, test_size=0.33, random_state=42, shuffle=True)\n",
    "X_test, X_val, y_test, y_val = train_test_split(X_test, y_test, test_size=0.33, random_state=42, shuffle=True)\n",
    "\n",
    "print(\"[SIZE]\\t\\tNpX lenght : {}\\n\\t\\tNpY length : {}\".format(X_train.shape, y_train.shape))\n",
    "print(\"[SIZE]\\t\\tX_validation length : {}\\n\\t\\ty_validation length : {}\".format(X_val.shape, y_val.shape))\n",
    "print(\"[SIZE]\\t\\tX_test length : {}\\n\\t\\ty_test length : {}\".format(X_test.shape, y_test.shape))"
   ]
  },
  {
   "cell_type": "code",
   "execution_count": 10,
   "metadata": {},
   "outputs": [
    {
     "data": {
      "image/png": "[encoded data removed]",
      "text/plain": [
       "<Figure size 2160x864 with 16 Axes>"
      ]
     },
     "metadata": {
      "needs_background": "light"
     },
     "output_type": "display_data"
    }
   ],
   "source": [
    "# 랜덤으로 뽑아서 뿌려보기\n",
    "\n",
    "import matplotlib.pyplot as plt\n",
    "import random\n",
    "%matplotlib inline\n",
    "\n",
    "plt.figure(figsize=(30, 12))\n",
    "plt.suptitle(\"random pal, per PAL\", fontsize=18)\n",
    "n = 0\n",
    "random.seed(11)\n",
    "for i in random.sample(range(6480), 16):\n",
    "    ax = plt.subplot(5, 5, n+1)\n",
    "    plt.imshow(temp_converted_img[i] * 255.0, interpolation='nearest')\n",
    "    ax.set_title(str(onehot_y[i]))\n",
    "    n+=1"
   ]
  },
  {
   "cell_type": "markdown",
   "metadata": {},
   "source": [
    "# 모델 생성"
   ]
  },
  {
   "cell_type": "code",
   "execution_count": 11,
   "metadata": {},
   "outputs": [],
   "source": [
    "input_size = (128, 128, 1)\n",
    "\n",
    "models = keras.Sequential([\n",
    "    # tf.keras.layers.experimental.preprocessing.Rescaling(1./255),\n",
    "    layers.Conv2D(64, kernel_size=(3, 3), activation='relu', input_shape=input_size),\n",
    "    layers.MaxPool2D(pool_size=(2, 2), strides=2),\n",
    "\n",
    "    layers.Conv2D(128, kernel_size=(2, 2), activation='relu'),\n",
    "    layers.MaxPool2D(pool_size=(2, 2), strides=2),\n",
    "\n",
    "    layers.Conv2D(256, kernel_size=(3, 3), activation='relu'),\n",
    "    layers.MaxPool2D(pool_size=(2, 2), strides=2),\n",
    "\n",
    "    layers.Conv2D(512, kernel_size=(2, 2), activation='relu'),\n",
    "    layers.MaxPool2D(pool_size=(2, 2), strides=2),\n",
    "\n",
    "    layers.Flatten(),\n",
    "    layers.Dropout(0.5),\n",
    "    layers.Dense(4096, activation='relu'),\n",
    "    layers.Dense(5, activation='softmax')\n",
    "])"
   ]
  },
  {
   "cell_type": "code",
   "execution_count": 12,
   "metadata": {},
   "outputs": [
    {
     "name": "stdout",
     "output_type": "stream",
     "text": [
      "Model: \"sequential\"\n",
      "_________________________________________________________________\n",
      " Layer (type)                Output Shape              Param #   \n",
      "=================================================================\n",
      " conv2d (Conv2D)             (None, 126, 126, 64)      640       \n",
      "                                                                 \n",
      " max_pooling2d (MaxPooling2D  (None, 63, 63, 64)       0         \n",
      " )                                                               \n",
      "                                                                 \n",
      " conv2d_1 (Conv2D)           (None, 62, 62, 128)       32896     \n",
      "                                                                 \n",
      " max_pooling2d_1 (MaxPooling  (None, 31, 31, 128)      0         \n",
      " 2D)                                                             \n",
      "                                                                 \n",
      " conv2d_2 (Conv2D)           (None, 29, 29, 256)       295168    \n",
      "                                                                 \n",
      " max_pooling2d_2 (MaxPooling  (None, 14, 14, 256)      0         \n",
      " 2D)                                                             \n",
      "                                                                 \n",
      " conv2d_3 (Conv2D)           (None, 13, 13, 512)       524800    \n",
      "                                                                 \n",
      " max_pooling2d_3 (MaxPooling  (None, 6, 6, 512)        0         \n",
      " 2D)                                                             \n",
      "                                                                 \n",
      " flatten (Flatten)           (None, 18432)             0         \n",
      "                                                                 \n",
      " dropout (Dropout)           (None, 18432)             0         \n",
      "                                                                 \n",
      " dense (Dense)               (None, 4096)              75501568  \n",
      "                                                                 \n",
      " dense_1 (Dense)             (None, 5)                 20485     \n",
      "                                                                 \n",
      "=================================================================\n",
      "Total params: 76,375,557\n",
      "Trainable params: 76,375,557\n",
      "Non-trainable params: 0\n",
      "_________________________________________________________________\n"
     ]
    }
   ],
   "source": [
    "models.summary()"
   ]
  },
  {
   "cell_type": "code",
   "execution_count": 13,
   "metadata": {},
   "outputs": [],
   "source": [
    "models.compile(\n",
    "        optimizer='adam',\n",
    "        # loss=\"sparse_categorical_crossentropy\",\n",
    "        loss='categorical_crossentropy',\n",
    "        metrics=['accuracy']\n",
    ")"
   ]
  },
  {
   "cell_type": "markdown",
   "metadata": {},
   "source": [
    "### 콜백 설정"
   ]
  },
  {
   "cell_type": "code",
   "execution_count": 14,
   "metadata": {},
   "outputs": [],
   "source": [
    "# 콜백 설정\n",
    "from keras.callbacks import EarlyStopping, ModelCheckpoint\n",
    "\n",
    "outDir = './cheakpoint/lefms_model/' # 이 경로에 best 모델이 저장된다.\n",
    "model_names = outDir + 'weights-{val_accuracy:.4f}.h5'\n",
    "\n",
    "def get_callbacks(patience = 50): \n",
    "    with tf.device('/gpu:0'):\n",
    "        earlystop = EarlyStopping(monitor='val_accuracy', min_delta=0.0001, patience=patience)\n",
    "        model_checkpoint = ModelCheckpoint(model_names, monitor='val_accuracy', verbose=1, save_best_only=True, period = 1)\n",
    "    \n",
    "        # callbacks = [earlystop, model_checkpoint]     # earlystop 사용하고 싶으면 이거 풀고 아래꺼 주석 처리\n",
    "        callbacks = [model_checkpoint]\n",
    "        return callbacks"
   ]
  },
  {
   "cell_type": "markdown",
   "metadata": {},
   "source": [
    "# 학습하기"
   ]
  },
  {
   "cell_type": "code",
   "execution_count": 15,
   "metadata": {},
   "outputs": [
    {
     "name": "stdout",
     "output_type": "stream",
     "text": [
      "WARNING:tensorflow:`period` argument is deprecated. Please use `save_freq` to specify the frequency in number of batches seen.\n",
      "Epoch 1/100\n",
      "590/590 [==============================] - ETA: 0s - loss: 0.5534 - accuracy: 0.8414\n",
      "Epoch 1: val_accuracy improved from -inf to 0.94121, saving model to ./cheakpoint/lefms_model\\weights-0.9412.h5\n",
      "590/590 [==============================] - 63s 96ms/step - loss: 0.5534 - accuracy: 0.8414 - val_loss: 0.1833 - val_accuracy: 0.9412\n",
      "Epoch 2/100\n",
      "589/590 [============================>.] - ETA: 0s - loss: 0.1490 - accuracy: 0.9540\n",
      "Epoch 2: val_accuracy improved from 0.94121 to 0.96869, saving model to ./cheakpoint/lefms_model\\weights-0.9687.h5\n",
      "590/590 [==============================] - 55s 94ms/step - loss: 0.1491 - accuracy: 0.9540 - val_loss: 0.0984 - val_accuracy: 0.9687\n",
      "Epoch 3/100\n",
      "589/590 [============================>.] - ETA: 0s - loss: 0.0917 - accuracy: 0.9724\n",
      "Epoch 3: val_accuracy improved from 0.96869 to 0.97790, saving model to ./cheakpoint/lefms_model\\weights-0.9779.h5\n",
      "590/590 [==============================] - 56s 94ms/step - loss: 0.0917 - accuracy: 0.9724 - val_loss: 0.0731 - val_accuracy: 0.9779\n",
      "Epoch 4/100\n",
      "589/590 [============================>.] - ETA: 0s - loss: 0.0704 - accuracy: 0.9783\n",
      "Epoch 4: val_accuracy improved from 0.97790 to 0.97872, saving model to ./cheakpoint/lefms_model\\weights-0.9787.h5\n",
      "590/590 [==============================] - 56s 94ms/step - loss: 0.0704 - accuracy: 0.9783 - val_loss: 0.0710 - val_accuracy: 0.9787\n",
      "Epoch 5/100\n",
      "589/590 [============================>.] - ETA: 0s - loss: 0.0562 - accuracy: 0.9828\n",
      "Epoch 5: val_accuracy improved from 0.97872 to 0.97929, saving model to ./cheakpoint/lefms_model\\weights-0.9793.h5\n",
      "590/590 [==============================] - 56s 94ms/step - loss: 0.0562 - accuracy: 0.9828 - val_loss: 0.0698 - val_accuracy: 0.9793\n",
      "Epoch 6/100\n",
      "589/590 [============================>.] - ETA: 0s - loss: 0.0489 - accuracy: 0.9845\n",
      "Epoch 6: val_accuracy improved from 0.97929 to 0.98222, saving model to ./cheakpoint/lefms_model\\weights-0.9822.h5\n",
      "590/590 [==============================] - 56s 95ms/step - loss: 0.0489 - accuracy: 0.9845 - val_loss: 0.0569 - val_accuracy: 0.9822\n",
      "Epoch 7/100\n",
      "589/590 [============================>.] - ETA: 0s - loss: 0.0403 - accuracy: 0.9871\n",
      "Epoch 7: val_accuracy improved from 0.98222 to 0.98312, saving model to ./cheakpoint/lefms_model\\weights-0.9831.h5\n",
      "590/590 [==============================] - 56s 94ms/step - loss: 0.0403 - accuracy: 0.9871 - val_loss: 0.0581 - val_accuracy: 0.9831\n",
      "Epoch 8/100\n",
      "589/590 [============================>.] - ETA: 0s - loss: 0.0360 - accuracy: 0.9886\n",
      "Epoch 8: val_accuracy did not improve from 0.98312\n",
      "590/590 [==============================] - 55s 93ms/step - loss: 0.0360 - accuracy: 0.9886 - val_loss: 0.0568 - val_accuracy: 0.9830\n",
      "Epoch 9/100\n",
      "589/590 [============================>.] - ETA: 0s - loss: 0.0305 - accuracy: 0.9898\n",
      "Epoch 9: val_accuracy improved from 0.98312 to 0.98434, saving model to ./cheakpoint/lefms_model\\weights-0.9843.h5\n",
      "590/590 [==============================] - 56s 95ms/step - loss: 0.0306 - accuracy: 0.9897 - val_loss: 0.0571 - val_accuracy: 0.9843\n",
      "Epoch 10/100\n",
      "589/590 [============================>.] - ETA: 0s - loss: 0.0264 - accuracy: 0.9910\n",
      "Epoch 10: val_accuracy did not improve from 0.98434\n",
      "590/590 [==============================] - 55s 93ms/step - loss: 0.0264 - accuracy: 0.9910 - val_loss: 0.0609 - val_accuracy: 0.9833\n",
      "Epoch 11/100\n",
      "589/590 [============================>.] - ETA: 0s - loss: 0.0242 - accuracy: 0.9919\n",
      "Epoch 11: val_accuracy improved from 0.98434 to 0.98508, saving model to ./cheakpoint/lefms_model\\weights-0.9851.h5\n",
      "590/590 [==============================] - 56s 95ms/step - loss: 0.0242 - accuracy: 0.9919 - val_loss: 0.0610 - val_accuracy: 0.9851\n",
      "Epoch 12/100\n",
      "589/590 [============================>.] - ETA: 0s - loss: 0.0213 - accuracy: 0.9929\n",
      "Epoch 12: val_accuracy did not improve from 0.98508\n",
      "590/590 [==============================] - 55s 93ms/step - loss: 0.0213 - accuracy: 0.9929 - val_loss: 0.0618 - val_accuracy: 0.9851\n",
      "Epoch 13/100\n",
      "589/590 [============================>.] - ETA: 0s - loss: 0.0176 - accuracy: 0.9942\n",
      "Epoch 13: val_accuracy did not improve from 0.98508\n",
      "590/590 [==============================] - 55s 93ms/step - loss: 0.0176 - accuracy: 0.9942 - val_loss: 0.0677 - val_accuracy: 0.9834\n",
      "Epoch 14/100\n",
      "589/590 [============================>.] - ETA: 0s - loss: 0.0173 - accuracy: 0.9940\n",
      "Epoch 14: val_accuracy did not improve from 0.98508\n",
      "590/590 [==============================] - 55s 93ms/step - loss: 0.0173 - accuracy: 0.9940 - val_loss: 0.0704 - val_accuracy: 0.9842\n",
      "Epoch 15/100\n",
      "589/590 [============================>.] - ETA: 0s - loss: 0.0154 - accuracy: 0.9948\n",
      "Epoch 15: val_accuracy improved from 0.98508 to 0.98606, saving model to ./cheakpoint/lefms_model\\weights-0.9861.h5\n",
      "590/590 [==============================] - 57s 96ms/step - loss: 0.0154 - accuracy: 0.9948 - val_loss: 0.0673 - val_accuracy: 0.9861\n",
      "Epoch 16/100\n",
      "589/590 [============================>.] - ETA: 0s - loss: 0.0145 - accuracy: 0.9951\n",
      "Epoch 16: val_accuracy did not improve from 0.98606\n",
      "590/590 [==============================] - 55s 93ms/step - loss: 0.0145 - accuracy: 0.9951 - val_loss: 0.0693 - val_accuracy: 0.9848\n",
      "Epoch 17/100\n",
      "589/590 [============================>.] - ETA: 0s - loss: 0.0142 - accuracy: 0.9953\n",
      "Epoch 17: val_accuracy did not improve from 0.98606\n",
      "590/590 [==============================] - 55s 93ms/step - loss: 0.0142 - accuracy: 0.9953 - val_loss: 0.0721 - val_accuracy: 0.9852\n",
      "Epoch 18/100\n",
      "589/590 [============================>.] - ETA: 0s - loss: 0.0119 - accuracy: 0.9962\n",
      "Epoch 18: val_accuracy did not improve from 0.98606\n",
      "590/590 [==============================] - 55s 93ms/step - loss: 0.0119 - accuracy: 0.9962 - val_loss: 0.0783 - val_accuracy: 0.9841\n",
      "Epoch 19/100\n",
      "589/590 [============================>.] - ETA: 0s - loss: 0.0111 - accuracy: 0.9962\n",
      "Epoch 19: val_accuracy did not improve from 0.98606\n",
      "590/590 [==============================] - 55s 93ms/step - loss: 0.0111 - accuracy: 0.9962 - val_loss: 0.0685 - val_accuracy: 0.9839\n",
      "Epoch 20/100\n",
      "589/590 [============================>.] - ETA: 0s - loss: 0.0106 - accuracy: 0.9966\n",
      "Epoch 20: val_accuracy did not improve from 0.98606\n",
      "590/590 [==============================] - 55s 93ms/step - loss: 0.0106 - accuracy: 0.9966 - val_loss: 0.0866 - val_accuracy: 0.9841\n",
      "Epoch 21/100\n",
      "589/590 [============================>.] - ETA: 0s - loss: 0.0104 - accuracy: 0.9966\n",
      "Epoch 21: val_accuracy did not improve from 0.98606\n",
      "590/590 [==============================] - 55s 93ms/step - loss: 0.0104 - accuracy: 0.9966 - val_loss: 0.0803 - val_accuracy: 0.9848\n",
      "Epoch 22/100\n",
      "589/590 [============================>.] - ETA: 0s - loss: 0.0101 - accuracy: 0.9967\n",
      "Epoch 22: val_accuracy did not improve from 0.98606\n",
      "590/590 [==============================] - 55s 93ms/step - loss: 0.0101 - accuracy: 0.9967 - val_loss: 0.0795 - val_accuracy: 0.9857\n",
      "Epoch 23/100\n",
      "589/590 [============================>.] - ETA: 0s - loss: 0.0102 - accuracy: 0.9967\n",
      "Epoch 23: val_accuracy improved from 0.98606 to 0.98679, saving model to ./cheakpoint/lefms_model\\weights-0.9868.h5\n",
      "590/590 [==============================] - 56s 95ms/step - loss: 0.0102 - accuracy: 0.9967 - val_loss: 0.0850 - val_accuracy: 0.9868\n",
      "Epoch 24/100\n",
      "589/590 [============================>.] - ETA: 0s - loss: 0.0093 - accuracy: 0.9969\n",
      "Epoch 24: val_accuracy did not improve from 0.98679\n",
      "590/590 [==============================] - 55s 93ms/step - loss: 0.0093 - accuracy: 0.9969 - val_loss: 0.0819 - val_accuracy: 0.9860\n",
      "Epoch 25/100\n",
      "589/590 [============================>.] - ETA: 0s - loss: 0.0082 - accuracy: 0.9973\n",
      "Epoch 25: val_accuracy did not improve from 0.98679\n",
      "590/590 [==============================] - 55s 93ms/step - loss: 0.0082 - accuracy: 0.9973 - val_loss: 0.0917 - val_accuracy: 0.9851\n",
      "Epoch 26/100\n",
      "589/590 [============================>.] - ETA: 0s - loss: 0.0092 - accuracy: 0.9971\n",
      "Epoch 26: val_accuracy did not improve from 0.98679\n",
      "590/590 [==============================] - 55s 93ms/step - loss: 0.0093 - accuracy: 0.9971 - val_loss: 0.0853 - val_accuracy: 0.9859\n",
      "Epoch 27/100\n",
      "589/590 [============================>.] - ETA: 0s - loss: 0.0071 - accuracy: 0.9977\n",
      "Epoch 27: val_accuracy did not improve from 0.98679\n",
      "590/590 [==============================] - 55s 93ms/step - loss: 0.0071 - accuracy: 0.9977 - val_loss: 0.0862 - val_accuracy: 0.9858\n",
      "Epoch 28/100\n",
      "589/590 [============================>.] - ETA: 0s - loss: 0.0087 - accuracy: 0.9970\n",
      "Epoch 28: val_accuracy did not improve from 0.98679\n",
      "590/590 [==============================] - 55s 93ms/step - loss: 0.0087 - accuracy: 0.9970 - val_loss: 0.0846 - val_accuracy: 0.9861\n",
      "Epoch 29/100\n",
      "589/590 [============================>.] - ETA: 0s - loss: 0.0072 - accuracy: 0.9978\n",
      "Epoch 29: val_accuracy did not improve from 0.98679\n",
      "590/590 [==============================] - 55s 93ms/step - loss: 0.0072 - accuracy: 0.9978 - val_loss: 0.1000 - val_accuracy: 0.9853\n",
      "Epoch 30/100\n",
      "589/590 [============================>.] - ETA: 0s - loss: 0.0085 - accuracy: 0.9972\n",
      "Epoch 30: val_accuracy did not improve from 0.98679\n",
      "590/590 [==============================] - 55s 93ms/step - loss: 0.0085 - accuracy: 0.9972 - val_loss: 0.0942 - val_accuracy: 0.9851\n",
      "Epoch 31/100\n",
      "589/590 [============================>.] - ETA: 0s - loss: 0.0071 - accuracy: 0.9976\n",
      "Epoch 31: val_accuracy did not improve from 0.98679\n",
      "590/590 [==============================] - 55s 93ms/step - loss: 0.0071 - accuracy: 0.9976 - val_loss: 0.0911 - val_accuracy: 0.9852\n",
      "Epoch 32/100\n",
      "589/590 [============================>.] - ETA: 0s - loss: 0.0080 - accuracy: 0.9974\n",
      "Epoch 32: val_accuracy did not improve from 0.98679\n",
      "590/590 [==============================] - 55s 93ms/step - loss: 0.0080 - accuracy: 0.9974 - val_loss: 0.0930 - val_accuracy: 0.9851\n",
      "Epoch 33/100\n",
      "589/590 [============================>.] - ETA: 0s - loss: 0.0051 - accuracy: 0.9983\n",
      "Epoch 33: val_accuracy did not improve from 0.98679\n",
      "590/590 [==============================] - 55s 93ms/step - loss: 0.0051 - accuracy: 0.9983 - val_loss: 0.0934 - val_accuracy: 0.9860\n",
      "Epoch 34/100\n",
      "589/590 [============================>.] - ETA: 0s - loss: 0.0073 - accuracy: 0.9975\n",
      "Epoch 34: val_accuracy did not improve from 0.98679\n",
      "590/590 [==============================] - 55s 93ms/step - loss: 0.0072 - accuracy: 0.9975 - val_loss: 0.1013 - val_accuracy: 0.9854\n",
      "Epoch 35/100\n",
      "589/590 [============================>.] - ETA: 0s - loss: 0.0069 - accuracy: 0.9978\n",
      "Epoch 35: val_accuracy did not improve from 0.98679\n",
      "590/590 [==============================] - 55s 93ms/step - loss: 0.0069 - accuracy: 0.9978 - val_loss: 0.1005 - val_accuracy: 0.9855\n",
      "Epoch 36/100\n",
      "589/590 [============================>.] - ETA: 0s - loss: 0.0077 - accuracy: 0.9973\n",
      "Epoch 36: val_accuracy did not improve from 0.98679\n",
      "590/590 [==============================] - 55s 93ms/step - loss: 0.0077 - accuracy: 0.9973 - val_loss: 0.0857 - val_accuracy: 0.9863\n",
      "Epoch 37/100\n",
      "589/590 [============================>.] - ETA: 0s - loss: 0.0047 - accuracy: 0.9984\n",
      "Epoch 37: val_accuracy did not improve from 0.98679\n",
      "590/590 [==============================] - 55s 93ms/step - loss: 0.0047 - accuracy: 0.9984 - val_loss: 0.0933 - val_accuracy: 0.9856\n",
      "Epoch 38/100\n",
      "589/590 [============================>.] - ETA: 0s - loss: 0.0060 - accuracy: 0.9982\n",
      "Epoch 38: val_accuracy did not improve from 0.98679\n",
      "590/590 [==============================] - 55s 93ms/step - loss: 0.0060 - accuracy: 0.9982 - val_loss: 0.0851 - val_accuracy: 0.9855\n",
      "Epoch 39/100\n",
      "589/590 [============================>.] - ETA: 0s - loss: 0.0057 - accuracy: 0.9982\n",
      "Epoch 39: val_accuracy did not improve from 0.98679\n",
      "590/590 [==============================] - 55s 93ms/step - loss: 0.0057 - accuracy: 0.9982 - val_loss: 0.0998 - val_accuracy: 0.9856\n",
      "Epoch 40/100\n",
      "589/590 [============================>.] - ETA: 0s - loss: 0.0058 - accuracy: 0.9981\n",
      "Epoch 40: val_accuracy did not improve from 0.98679\n",
      "590/590 [==============================] - 55s 93ms/step - loss: 0.0057 - accuracy: 0.9981 - val_loss: 0.1057 - val_accuracy: 0.9858\n",
      "Epoch 41/100\n",
      "589/590 [============================>.] - ETA: 0s - loss: 0.0047 - accuracy: 0.9982\n",
      "Epoch 41: val_accuracy did not improve from 0.98679\n",
      "590/590 [==============================] - 55s 93ms/step - loss: 0.0047 - accuracy: 0.9982 - val_loss: 0.1120 - val_accuracy: 0.9849\n",
      "Epoch 42/100\n",
      "589/590 [============================>.] - ETA: 0s - loss: 0.0060 - accuracy: 0.9980\n",
      "Epoch 42: val_accuracy did not improve from 0.98679\n",
      "590/590 [==============================] - 55s 93ms/step - loss: 0.0060 - accuracy: 0.9980 - val_loss: 0.1097 - val_accuracy: 0.9857\n",
      "Epoch 43/100\n",
      "589/590 [============================>.] - ETA: 0s - loss: 0.0062 - accuracy: 0.9982\n",
      "Epoch 43: val_accuracy did not improve from 0.98679\n",
      "590/590 [==============================] - 55s 93ms/step - loss: 0.0062 - accuracy: 0.9982 - val_loss: 0.0935 - val_accuracy: 0.9861\n",
      "Epoch 44/100\n",
      "589/590 [============================>.] - ETA: 0s - loss: 0.0048 - accuracy: 0.9986\n",
      "Epoch 44: val_accuracy did not improve from 0.98679\n",
      "590/590 [==============================] - 55s 93ms/step - loss: 0.0048 - accuracy: 0.9986 - val_loss: 0.1001 - val_accuracy: 0.9853\n",
      "Epoch 45/100\n",
      "589/590 [============================>.] - ETA: 0s - loss: 0.0071 - accuracy: 0.9979\n",
      "Epoch 45: val_accuracy did not improve from 0.98679\n",
      "590/590 [==============================] - 55s 93ms/step - loss: 0.0071 - accuracy: 0.9979 - val_loss: 0.1017 - val_accuracy: 0.9853\n",
      "Epoch 46/100\n",
      "589/590 [============================>.] - ETA: 0s - loss: 0.0060 - accuracy: 0.9981\n",
      "Epoch 46: val_accuracy did not improve from 0.98679\n",
      "590/590 [==============================] - 55s 93ms/step - loss: 0.0060 - accuracy: 0.9981 - val_loss: 0.0939 - val_accuracy: 0.9866\n",
      "Epoch 47/100\n",
      "589/590 [============================>.] - ETA: 0s - loss: 0.0044 - accuracy: 0.9986\n",
      "Epoch 47: val_accuracy did not improve from 0.98679\n",
      "590/590 [==============================] - 55s 93ms/step - loss: 0.0044 - accuracy: 0.9986 - val_loss: 0.0970 - val_accuracy: 0.9856\n",
      "Epoch 48/100\n",
      "589/590 [============================>.] - ETA: 0s - loss: 0.0047 - accuracy: 0.9985\n",
      "Epoch 48: val_accuracy did not improve from 0.98679\n",
      "590/590 [==============================] - 55s 93ms/step - loss: 0.0047 - accuracy: 0.9985 - val_loss: 0.1083 - val_accuracy: 0.9856\n",
      "Epoch 49/100\n",
      "589/590 [============================>.] - ETA: 0s - loss: 0.0047 - accuracy: 0.9984\n",
      "Epoch 49: val_accuracy did not improve from 0.98679\n",
      "590/590 [==============================] - 55s 93ms/step - loss: 0.0048 - accuracy: 0.9984 - val_loss: 0.1015 - val_accuracy: 0.9861\n",
      "Epoch 50/100\n",
      "589/590 [============================>.] - ETA: 0s - loss: 0.0035 - accuracy: 0.9989\n",
      "Epoch 50: val_accuracy did not improve from 0.98679\n",
      "590/590 [==============================] - 55s 93ms/step - loss: 0.0035 - accuracy: 0.9989 - val_loss: 0.1122 - val_accuracy: 0.9864\n",
      "Epoch 51/100\n",
      "589/590 [============================>.] - ETA: 0s - loss: 0.0045 - accuracy: 0.9985\n",
      "Epoch 51: val_accuracy did not improve from 0.98679\n",
      "590/590 [==============================] - 55s 93ms/step - loss: 0.0045 - accuracy: 0.9985 - val_loss: 0.1128 - val_accuracy: 0.9850\n",
      "Epoch 52/100\n",
      "589/590 [============================>.] - ETA: 0s - loss: 0.0057 - accuracy: 0.9982\n",
      "Epoch 52: val_accuracy did not improve from 0.98679\n",
      "590/590 [==============================] - 55s 93ms/step - loss: 0.0057 - accuracy: 0.9982 - val_loss: 0.1172 - val_accuracy: 0.9848\n",
      "Epoch 53/100\n",
      "589/590 [============================>.] - ETA: 0s - loss: 0.0042 - accuracy: 0.9987\n",
      "Epoch 53: val_accuracy did not improve from 0.98679\n",
      "590/590 [==============================] - 55s 93ms/step - loss: 0.0042 - accuracy: 0.9987 - val_loss: 0.1097 - val_accuracy: 0.9845\n",
      "Epoch 54/100\n",
      "589/590 [============================>.] - ETA: 0s - loss: 0.0052 - accuracy: 0.9985\n",
      "Epoch 54: val_accuracy did not improve from 0.98679\n",
      "590/590 [==============================] - 55s 93ms/step - loss: 0.0052 - accuracy: 0.9985 - val_loss: 0.0987 - val_accuracy: 0.9854\n",
      "Epoch 55/100\n",
      "589/590 [============================>.] - ETA: 0s - loss: 0.0041 - accuracy: 0.9986\n",
      "Epoch 55: val_accuracy did not improve from 0.98679\n",
      "590/590 [==============================] - 55s 93ms/step - loss: 0.0041 - accuracy: 0.9986 - val_loss: 0.1097 - val_accuracy: 0.9843\n",
      "Epoch 56/100\n",
      "589/590 [============================>.] - ETA: 0s - loss: 0.0034 - accuracy: 0.9989\n",
      "Epoch 56: val_accuracy did not improve from 0.98679\n",
      "590/590 [==============================] - 55s 93ms/step - loss: 0.0034 - accuracy: 0.9989 - val_loss: 0.1196 - val_accuracy: 0.9857\n",
      "Epoch 57/100\n",
      "589/590 [============================>.] - ETA: 0s - loss: 0.0041 - accuracy: 0.9986\n",
      "Epoch 57: val_accuracy did not improve from 0.98679\n",
      "590/590 [==============================] - 55s 93ms/step - loss: 0.0041 - accuracy: 0.9986 - val_loss: 0.1165 - val_accuracy: 0.9842\n",
      "Epoch 58/100\n",
      "589/590 [============================>.] - ETA: 0s - loss: 0.0042 - accuracy: 0.9986\n",
      "Epoch 58: val_accuracy did not improve from 0.98679\n",
      "590/590 [==============================] - 55s 93ms/step - loss: 0.0042 - accuracy: 0.9986 - val_loss: 0.1158 - val_accuracy: 0.9848\n",
      "Epoch 59/100\n",
      "589/590 [============================>.] - ETA: 0s - loss: 0.0050 - accuracy: 0.9983\n",
      "Epoch 59: val_accuracy did not improve from 0.98679\n",
      "590/590 [==============================] - 55s 93ms/step - loss: 0.0050 - accuracy: 0.9983 - val_loss: 0.1113 - val_accuracy: 0.9855\n",
      "Epoch 60/100\n",
      "589/590 [============================>.] - ETA: 0s - loss: 0.0056 - accuracy: 0.9982\n",
      "Epoch 60: val_accuracy did not improve from 0.98679\n",
      "590/590 [==============================] - 55s 93ms/step - loss: 0.0056 - accuracy: 0.9982 - val_loss: 0.1184 - val_accuracy: 0.9853\n",
      "Epoch 61/100\n",
      "589/590 [============================>.] - ETA: 0s - loss: 0.0031 - accuracy: 0.9991\n",
      "Epoch 61: val_accuracy did not improve from 0.98679\n",
      "590/590 [==============================] - 55s 93ms/step - loss: 0.0031 - accuracy: 0.9991 - val_loss: 0.1160 - val_accuracy: 0.9859\n",
      "Epoch 62/100\n",
      "589/590 [============================>.] - ETA: 0s - loss: 0.0042 - accuracy: 0.9988\n",
      "Epoch 62: val_accuracy did not improve from 0.98679\n",
      "590/590 [==============================] - 55s 93ms/step - loss: 0.0042 - accuracy: 0.9988 - val_loss: 0.1127 - val_accuracy: 0.9850\n",
      "Epoch 63/100\n",
      "589/590 [============================>.] - ETA: 0s - loss: 0.0055 - accuracy: 0.9986\n",
      "Epoch 63: val_accuracy did not improve from 0.98679\n",
      "590/590 [==============================] - 55s 93ms/step - loss: 0.0055 - accuracy: 0.9986 - val_loss: 0.1019 - val_accuracy: 0.9858\n",
      "Epoch 64/100\n",
      "589/590 [============================>.] - ETA: 0s - loss: 0.0032 - accuracy: 0.9990\n",
      "Epoch 64: val_accuracy did not improve from 0.98679\n",
      "590/590 [==============================] - 55s 93ms/step - loss: 0.0032 - accuracy: 0.9990 - val_loss: 0.1187 - val_accuracy: 0.9853\n",
      "Epoch 65/100\n",
      "589/590 [============================>.] - ETA: 0s - loss: 0.0048 - accuracy: 0.9986\n",
      "Epoch 65: val_accuracy did not improve from 0.98679\n",
      "590/590 [==============================] - 55s 93ms/step - loss: 0.0048 - accuracy: 0.9986 - val_loss: 0.1215 - val_accuracy: 0.9851\n",
      "Epoch 66/100\n",
      "589/590 [============================>.] - ETA: 0s - loss: 0.0042 - accuracy: 0.9986\n",
      "Epoch 66: val_accuracy did not improve from 0.98679\n",
      "590/590 [==============================] - 55s 93ms/step - loss: 0.0042 - accuracy: 0.9986 - val_loss: 0.1337 - val_accuracy: 0.9856\n",
      "Epoch 67/100\n",
      "589/590 [============================>.] - ETA: 0s - loss: 0.0034 - accuracy: 0.9989\n",
      "Epoch 67: val_accuracy did not improve from 0.98679\n",
      "590/590 [==============================] - 55s 93ms/step - loss: 0.0034 - accuracy: 0.9989 - val_loss: 0.1225 - val_accuracy: 0.9857\n",
      "Epoch 68/100\n",
      "589/590 [============================>.] - ETA: 0s - loss: 0.0045 - accuracy: 0.9986\n",
      "Epoch 68: val_accuracy did not improve from 0.98679\n",
      "590/590 [==============================] - 55s 93ms/step - loss: 0.0045 - accuracy: 0.9986 - val_loss: 0.1259 - val_accuracy: 0.9850\n",
      "Epoch 69/100\n",
      "589/590 [============================>.] - ETA: 0s - loss: 0.0042 - accuracy: 0.9987\n",
      "Epoch 69: val_accuracy did not improve from 0.98679\n",
      "590/590 [==============================] - 55s 93ms/step - loss: 0.0042 - accuracy: 0.9987 - val_loss: 0.1263 - val_accuracy: 0.9859\n",
      "Epoch 70/100\n",
      "589/590 [============================>.] - ETA: 0s - loss: 0.0048 - accuracy: 0.9986\n",
      "Epoch 70: val_accuracy did not improve from 0.98679\n",
      "590/590 [==============================] - 55s 93ms/step - loss: 0.0048 - accuracy: 0.9986 - val_loss: 0.1260 - val_accuracy: 0.9854\n",
      "Epoch 71/100\n",
      "589/590 [============================>.] - ETA: 0s - loss: 0.0041 - accuracy: 0.9988\n",
      "Epoch 71: val_accuracy did not improve from 0.98679\n",
      "590/590 [==============================] - 55s 94ms/step - loss: 0.0042 - accuracy: 0.9988 - val_loss: 0.1048 - val_accuracy: 0.9867\n",
      "Epoch 72/100\n",
      "589/590 [============================>.] - ETA: 0s - loss: 0.0028 - accuracy: 0.9991\n",
      "Epoch 72: val_accuracy did not improve from 0.98679\n",
      "590/590 [==============================] - 55s 94ms/step - loss: 0.0028 - accuracy: 0.9991 - val_loss: 0.1199 - val_accuracy: 0.9865\n",
      "Epoch 73/100\n",
      "589/590 [============================>.] - ETA: 0s - loss: 0.0033 - accuracy: 0.9991\n",
      "Epoch 73: val_accuracy did not improve from 0.98679\n",
      "590/590 [==============================] - 56s 94ms/step - loss: 0.0033 - accuracy: 0.9991 - val_loss: 0.1422 - val_accuracy: 0.9856\n",
      "Epoch 74/100\n",
      "589/590 [============================>.] - ETA: 0s - loss: 0.0047 - accuracy: 0.9988\n",
      "Epoch 74: val_accuracy did not improve from 0.98679\n",
      "590/590 [==============================] - 56s 94ms/step - loss: 0.0047 - accuracy: 0.9988 - val_loss: 0.1237 - val_accuracy: 0.9853\n",
      "Epoch 75/100\n",
      "589/590 [============================>.] - ETA: 0s - loss: 0.0043 - accuracy: 0.9990\n",
      "Epoch 75: val_accuracy did not improve from 0.98679\n",
      "590/590 [==============================] - 56s 94ms/step - loss: 0.0043 - accuracy: 0.9990 - val_loss: 0.1194 - val_accuracy: 0.9851\n",
      "Epoch 76/100\n",
      "589/590 [============================>.] - ETA: 0s - loss: 0.0039 - accuracy: 0.9990\n",
      "Epoch 76: val_accuracy did not improve from 0.98679\n",
      "590/590 [==============================] - 56s 94ms/step - loss: 0.0039 - accuracy: 0.9990 - val_loss: 0.1260 - val_accuracy: 0.9860\n",
      "Epoch 77/100\n",
      "589/590 [============================>.] - ETA: 0s - loss: 0.0031 - accuracy: 0.9993\n",
      "Epoch 77: val_accuracy did not improve from 0.98679\n",
      "590/590 [==============================] - 55s 94ms/step - loss: 0.0031 - accuracy: 0.9993 - val_loss: 0.1239 - val_accuracy: 0.9852\n",
      "Epoch 78/100\n",
      "589/590 [============================>.] - ETA: 0s - loss: 0.0030 - accuracy: 0.9992\n",
      "Epoch 78: val_accuracy did not improve from 0.98679\n",
      "590/590 [==============================] - 55s 93ms/step - loss: 0.0030 - accuracy: 0.9992 - val_loss: 0.1229 - val_accuracy: 0.9848\n",
      "Epoch 79/100\n",
      "589/590 [============================>.] - ETA: 0s - loss: 0.0038 - accuracy: 0.9988\n",
      "Epoch 79: val_accuracy did not improve from 0.98679\n",
      "590/590 [==============================] - 55s 93ms/step - loss: 0.0038 - accuracy: 0.9988 - val_loss: 0.1345 - val_accuracy: 0.9854\n",
      "Epoch 80/100\n",
      "589/590 [============================>.] - ETA: 0s - loss: 0.0035 - accuracy: 0.9990\n",
      "Epoch 80: val_accuracy did not improve from 0.98679\n",
      "590/590 [==============================] - 55s 93ms/step - loss: 0.0035 - accuracy: 0.9990 - val_loss: 0.1548 - val_accuracy: 0.9849\n",
      "Epoch 81/100\n",
      "589/590 [============================>.] - ETA: 0s - loss: 0.0035 - accuracy: 0.9991\n",
      "Epoch 81: val_accuracy did not improve from 0.98679\n",
      "590/590 [==============================] - 55s 93ms/step - loss: 0.0035 - accuracy: 0.9991 - val_loss: 0.1317 - val_accuracy: 0.9857\n",
      "Epoch 82/100\n",
      "589/590 [============================>.] - ETA: 0s - loss: 0.0038 - accuracy: 0.9989\n",
      "Epoch 82: val_accuracy did not improve from 0.98679\n",
      "590/590 [==============================] - 55s 93ms/step - loss: 0.0038 - accuracy: 0.9989 - val_loss: 0.1301 - val_accuracy: 0.9863\n",
      "Epoch 83/100\n",
      "589/590 [============================>.] - ETA: 0s - loss: 0.0035 - accuracy: 0.9989\n",
      "Epoch 83: val_accuracy did not improve from 0.98679\n",
      "590/590 [==============================] - 55s 93ms/step - loss: 0.0035 - accuracy: 0.9989 - val_loss: 0.1346 - val_accuracy: 0.9852\n",
      "Epoch 84/100\n",
      "589/590 [============================>.] - ETA: 0s - loss: 0.0040 - accuracy: 0.9990\n",
      "Epoch 84: val_accuracy did not improve from 0.98679\n",
      "590/590 [==============================] - 55s 93ms/step - loss: 0.0040 - accuracy: 0.9990 - val_loss: 0.1148 - val_accuracy: 0.9852\n",
      "Epoch 85/100\n",
      "589/590 [============================>.] - ETA: 0s - loss: 0.0036 - accuracy: 0.9989\n",
      "Epoch 85: val_accuracy did not improve from 0.98679\n",
      "590/590 [==============================] - 55s 93ms/step - loss: 0.0036 - accuracy: 0.9989 - val_loss: 0.1233 - val_accuracy: 0.9865\n",
      "Epoch 86/100\n",
      "589/590 [============================>.] - ETA: 0s - loss: 0.0039 - accuracy: 0.9989\n",
      "Epoch 86: val_accuracy did not improve from 0.98679\n",
      "590/590 [==============================] - 55s 93ms/step - loss: 0.0039 - accuracy: 0.9989 - val_loss: 0.1303 - val_accuracy: 0.9852\n",
      "Epoch 87/100\n",
      "589/590 [============================>.] - ETA: 0s - loss: 0.0026 - accuracy: 0.9993\n",
      "Epoch 87: val_accuracy did not improve from 0.98679\n",
      "590/590 [==============================] - 55s 93ms/step - loss: 0.0026 - accuracy: 0.9993 - val_loss: 0.1464 - val_accuracy: 0.9856\n",
      "Epoch 88/100\n",
      "589/590 [============================>.] - ETA: 0s - loss: 0.0035 - accuracy: 0.9989\n",
      "Epoch 88: val_accuracy did not improve from 0.98679\n",
      "590/590 [==============================] - 55s 93ms/step - loss: 0.0035 - accuracy: 0.9989 - val_loss: 0.1637 - val_accuracy: 0.9853\n",
      "Epoch 89/100\n",
      "589/590 [============================>.] - ETA: 0s - loss: 0.0030 - accuracy: 0.9992\n",
      "Epoch 89: val_accuracy did not improve from 0.98679\n",
      "590/590 [==============================] - 55s 93ms/step - loss: 0.0030 - accuracy: 0.9992 - val_loss: 0.1337 - val_accuracy: 0.9865\n",
      "Epoch 90/100\n",
      "589/590 [============================>.] - ETA: 0s - loss: 0.0030 - accuracy: 0.9991\n",
      "Epoch 90: val_accuracy did not improve from 0.98679\n",
      "590/590 [==============================] - 55s 93ms/step - loss: 0.0030 - accuracy: 0.9991 - val_loss: 0.1423 - val_accuracy: 0.9843\n",
      "Epoch 91/100\n",
      "589/590 [============================>.] - ETA: 0s - loss: 0.0045 - accuracy: 0.9988\n",
      "Epoch 91: val_accuracy did not improve from 0.98679\n",
      "590/590 [==============================] - 55s 93ms/step - loss: 0.0045 - accuracy: 0.9988 - val_loss: 0.1525 - val_accuracy: 0.9844\n",
      "Epoch 92/100\n",
      "589/590 [============================>.] - ETA: 0s - loss: 0.0026 - accuracy: 0.9992\n",
      "Epoch 92: val_accuracy did not improve from 0.98679\n",
      "590/590 [==============================] - 55s 93ms/step - loss: 0.0026 - accuracy: 0.9992 - val_loss: 0.1444 - val_accuracy: 0.9854\n",
      "Epoch 93/100\n",
      "589/590 [============================>.] - ETA: 0s - loss: 0.0028 - accuracy: 0.9991\n",
      "Epoch 93: val_accuracy did not improve from 0.98679\n",
      "590/590 [==============================] - 55s 93ms/step - loss: 0.0028 - accuracy: 0.9991 - val_loss: 0.1411 - val_accuracy: 0.9856\n",
      "Epoch 94/100\n",
      "589/590 [============================>.] - ETA: 0s - loss: 0.0053 - accuracy: 0.9985\n",
      "Epoch 94: val_accuracy did not improve from 0.98679\n",
      "590/590 [==============================] - 55s 93ms/step - loss: 0.0053 - accuracy: 0.9985 - val_loss: 0.1357 - val_accuracy: 0.9860\n",
      "Epoch 95/100\n",
      "589/590 [============================>.] - ETA: 0s - loss: 0.0039 - accuracy: 0.9990\n",
      "Epoch 95: val_accuracy did not improve from 0.98679\n",
      "590/590 [==============================] - 55s 93ms/step - loss: 0.0039 - accuracy: 0.9990 - val_loss: 0.1275 - val_accuracy: 0.9861\n",
      "Epoch 96/100\n",
      "589/590 [============================>.] - ETA: 0s - loss: 0.0019 - accuracy: 0.9994\n",
      "Epoch 96: val_accuracy did not improve from 0.98679\n",
      "590/590 [==============================] - 55s 93ms/step - loss: 0.0019 - accuracy: 0.9994 - val_loss: 0.1290 - val_accuracy: 0.9852\n",
      "Epoch 97/100\n",
      "589/590 [============================>.] - ETA: 0s - loss: 0.0030 - accuracy: 0.9992\n",
      "Epoch 97: val_accuracy did not improve from 0.98679\n",
      "590/590 [==============================] - 55s 93ms/step - loss: 0.0030 - accuracy: 0.9992 - val_loss: 0.1469 - val_accuracy: 0.9860\n",
      "Epoch 98/100\n",
      "589/590 [============================>.] - ETA: 0s - loss: 0.0034 - accuracy: 0.9990\n",
      "Epoch 98: val_accuracy did not improve from 0.98679\n",
      "590/590 [==============================] - 55s 93ms/step - loss: 0.0035 - accuracy: 0.9990 - val_loss: 0.1363 - val_accuracy: 0.9852\n",
      "Epoch 99/100\n",
      "589/590 [============================>.] - ETA: 0s - loss: 0.0028 - accuracy: 0.9992\n",
      "Epoch 99: val_accuracy did not improve from 0.98679\n",
      "590/590 [==============================] - 55s 93ms/step - loss: 0.0028 - accuracy: 0.9992 - val_loss: 0.1452 - val_accuracy: 0.9854\n",
      "Epoch 100/100\n",
      "589/590 [============================>.] - ETA: 0s - loss: 0.0029 - accuracy: 0.9992\n",
      "Epoch 100: val_accuracy did not improve from 0.98679\n",
      "590/590 [==============================] - 55s 93ms/step - loss: 0.0029 - accuracy: 0.9992 - val_loss: 0.1601 - val_accuracy: 0.9847\n"
     ]
    }
   ],
   "source": [
    "callbacks = get_callbacks()\n",
    "\n",
    "with tf.device('/gpu:0'):\n",
    "    models_hist = models.fit(\n",
    "        X_train,\n",
    "        y_train,\n",
    "        batch_size=BATCH_SIZE,\n",
    "        epochs=EPOCH,\n",
    "        validation_data=(X_val, y_val),\n",
    "        callbacks = [callbacks]\n",
    "    )"
   ]
  },
  {
   "cell_type": "markdown",
   "metadata": {},
   "source": [
    "# 결과 시각화 하기"
   ]
  },
  {
   "cell_type": "code",
   "execution_count": 16,
   "metadata": {},
   "outputs": [],
   "source": [
    "# 학습 된 모델의 학습 과정 시각화\n",
    "import matplotlib.pyplot as plt\n",
    "def plot_model__hist(hist):\n",
    "    path = './cheakpoint/lefms/' # loss, accuracy 그래프 저장할 path\n",
    "    createDirectory(path)\n",
    "\n",
    "    # loss 추이 그래프로 그려서 저장\n",
    "    plt.figure(figsize=(6,6))\n",
    "    plt.style.use(\"ggplot\")\n",
    "    plt.plot(hist.history['loss'], color='b', label=\"Training loss\")\n",
    "    plt.plot(hist.history['val_loss'], color='r', label=\"Validation loss\")\n",
    "    plt.savefig(path + 'model_loss_hist.png')\n",
    "    plt.legend()\n",
    "    plt.show()\n",
    "\n",
    "    # accuracy 추이 그래프로 그려서 저장\n",
    "    plt.figure(figsize=(6,6))\n",
    "    plt.style.use(\"ggplot\")\n",
    "    plt.plot(hist.history['accuracy'], color='b', label=\"Training accuracy\")\n",
    "    plt.plot(hist.history['val_accuracy'], color='r',label=\"Validation accuracy\")\n",
    "    plt.savefig(path + 'model_loss_hist.png')\n",
    "    plt.legend(loc = \"lower right\")\n",
    "    plt.show()"
   ]
  },
  {
   "cell_type": "code",
   "execution_count": 18,
   "metadata": {},
   "outputs": [
    {
     "data": {
      "image/png": "[encoded data removed]",
      "text/plain": [
       "<Figure size 432x432 with 1 Axes>"
      ]
     },
     "metadata": {},
     "output_type": "display_data"
    },
    {
     "data": {
      "image/png": "[encoded data removed]",
      "text/plain": [
       "<Figure size 432x432 with 1 Axes>"
      ]
     },
     "metadata": {},
     "output_type": "display_data"
    },
    {
     "name": "stdout",
     "output_type": "stream",
     "text": [
      "384/384 - 4s - loss: 0.1601 - accuracy: 0.9847 - 4s/epoch - 11ms/step\n",
      "multi_model의 정확도: 98.47%\n",
      "multi_model의 Loss: 0.16013815999031067\n"
     ]
    }
   ],
   "source": [
    "plot_model__hist(models_hist)\n",
    "loss,acc = models.evaluate(X_val, y_val, verbose=2)\n",
    "print(\"multi_model의 정확도: {:5.2f}%\".format(100*acc))\n",
    "print(\"multi_model의 Loss: {}\".format(loss))"
   ]
  },
  {
   "cell_type": "markdown",
   "metadata": {},
   "source": [
    "# 모델 불러와서 confusion matrix 그리기"
   ]
  },
  {
   "cell_type": "code",
   "execution_count": 43,
   "metadata": {},
   "outputs": [],
   "source": [
    "tf.keras.backend.clear_session()"
   ]
  },
  {
   "cell_type": "code",
   "execution_count": 44,
   "metadata": {},
   "outputs": [],
   "source": [
    "# 모델 불러오기\n",
    "reconstructed_model = keras.models.load_model(\"./cheakpoint/lefms_model/weights-0.9868.h5\")"
   ]
  },
  {
   "cell_type": "code",
   "execution_count": 50,
   "metadata": {},
   "outputs": [
    {
     "name": "stdout",
     "output_type": "stream",
     "text": [
      "778/778 [==============================] - 116s 149ms/step\n"
     ]
    }
   ],
   "source": [
    "# 예측값 얻기\n",
    "with tf.device('cpu:0'):\n",
    "    y_pred = reconstructed_model.predict(X_test)"
   ]
  },
  {
   "cell_type": "code",
   "execution_count": 51,
   "metadata": {},
   "outputs": [],
   "source": [
    "# one hat encoding 를 하나의 변수로 바꾸기\n",
    "new_y= []\n",
    "for val in y_test:\n",
    "    max = 0\n",
    "    cnt = 0\n",
    "    for idx, num in enumerate(val):\n",
    "        if max < num:\n",
    "            max = num\n",
    "            cnt = idx + 1\n",
    "    new_y.append(cnt)"
   ]
  },
  {
   "cell_type": "code",
   "execution_count": 52,
   "metadata": {},
   "outputs": [],
   "source": [
    "# one hat encoding 를 하나의 변수로 바꾸기\n",
    "new_y_pred = []\n",
    "for val in y_pred:\n",
    "    max = 0\n",
    "    cnt = 0\n",
    "    for idx, num in enumerate(val):\n",
    "        if max < num:\n",
    "            max = num\n",
    "            cnt = idx + 1\n",
    "    new_y_pred.append(cnt)"
   ]
  },
  {
   "cell_type": "code",
   "execution_count": 56,
   "metadata": {},
   "outputs": [
    {
     "name": "stdout",
     "output_type": "stream",
     "text": [
      "778/778 [==============================] - 156s 200ms/step - loss: 0.0828 - accuracy: 0.9855\n",
      "정답률 =  0.9854990839958191 loss= 0.08277726173400879\n"
     ]
    }
   ],
   "source": [
    "# 최종 정확도 산출\n",
    "with tf.device('/cpu:0'):\n",
    "    score = reconstructed_model.evaluate(X_test, y_test, verbose=1)\n",
    "print('정답률 = ', score[1],'loss=', score[0])"
   ]
  },
  {
   "cell_type": "markdown",
   "metadata": {},
   "source": [
    "### confusion matrix 그리기"
   ]
  },
  {
   "cell_type": "code",
   "execution_count": 57,
   "metadata": {},
   "outputs": [
    {
     "data": {
      "image/png": "[encoded data removed]",
      "text/plain": [
       "<Figure size 432x288 with 2 Axes>"
      ]
     },
     "metadata": {},
     "output_type": "display_data"
    }
   ],
   "source": [
    "# 개수 버전\n",
    "from sklearn.metrics import classification_report, confusion_matrix, precision_score, recall_score, f1_score\n",
    "import seaborn as sns\n",
    "\n",
    "cm2 = confusion_matrix(new_y, new_y_pred)\n",
    "sns.heatmap(cm2, annot = True, fmt = 'd', cmap= 'Reds')\n",
    "plt.xlabel('predict')\n",
    "plt.ylabel('real')\n",
    "plt.xticks([0.5, 1.5, 2.5, 3.5, 4.5], ['0 = N', '1 = S', '2 = V', '3 = F', '4 = Q'])\n",
    "plt.yticks([0.5, 1.5, 2.5, 3.5, 4.5], ['0 = N', '1 = S', '2 = V', '3 = F', '4 = Q'])\n",
    "plt.show()"
   ]
  },
  {
   "cell_type": "code",
   "execution_count": 58,
   "metadata": {},
   "outputs": [
    {
     "data": {
      "image/png": "[encoded data removed]",
      "text/plain": [
       "<Figure size 432x288 with 2 Axes>"
      ]
     },
     "metadata": {},
     "output_type": "display_data"
    }
   ],
   "source": [
    "# percentile 버전\n",
    "total = np.sum(cm2, axis=1)\n",
    "cm2_percentile = cm2/total[:,None]\n",
    "sns.heatmap(np.round(cm2_percentile,3), annot = True, cmap= 'Reds')\n",
    "plt.xlabel('predict')\n",
    "plt.ylabel('real')\n",
    "plt.xticks([0.5, 1.5, 2.5, 3.5, 4.5], ['0 = N', '1 = S', '2 = V', '3 = F', '4 = Q'])\n",
    "plt.yticks([0.5, 1.5, 2.5, 3.5, 4.5], ['0 = N', '1 = S', '2 = V', '3 = F', '4 = Q'])\n",
    "plt.show()"
   ]
  },
  {
   "cell_type": "code",
   "execution_count": 59,
   "metadata": {},
   "outputs": [
    {
     "data": {
      "text/plain": [
       "array([[19949,    31,    35,    10,    34],\n",
       "       [   74,   525,    10,     0,     1],\n",
       "       [   44,     2,  1485,    10,    12],\n",
       "       [   21,     0,    15,   146,     0],\n",
       "       [   38,     3,    21,     0,  2429]], dtype=int64)"
      ]
     },
     "execution_count": 59,
     "metadata": {},
     "output_type": "execute_result"
    }
   ],
   "source": [
    "from sklearn.metrics import confusion_matrix\n",
    "confusion_matrix(new_y, new_y_pred)"
   ]
  },
  {
   "cell_type": "code",
   "execution_count": 60,
   "metadata": {},
   "outputs": [
    {
     "name": "stdout",
     "output_type": "stream",
     "text": [
      "              precision    recall  f1-score   support\n",
      "\n",
      "       0 = N       0.99      0.99      0.99     20059\n",
      "       1 = S       0.94      0.86      0.90       610\n",
      "       2 = V       0.95      0.96      0.95      1553\n",
      "       3 = F       0.88      0.80      0.84       182\n",
      "       4 = Q       0.98      0.98      0.98      2491\n",
      "\n",
      "    accuracy                           0.99     24895\n",
      "   macro avg       0.95      0.92      0.93     24895\n",
      "weighted avg       0.99      0.99      0.99     24895\n",
      "\n"
     ]
    }
   ],
   "source": [
    "# classification_report 그리기\n",
    "from sklearn.metrics import classification_report\n",
    "target_names = ['0 = N', '1 = S', '2 = V', '3 = F', '4 = Q']\n",
    "print(classification_report(new_y, new_y_pred, target_names=target_names))"
   ]
  }
 ],
 "metadata": {
  "kernelspec": {
   "display_name": "Python 3.9.7 ('base')",
   "language": "python",
   "name": "python3"
  },
  "language_info": {
   "codemirror_mode": {
    "name": "ipython",
    "version": 3
   },
   "file_extension": ".py",
   "mimetype": "text/x-python",
   "name": "python",
   "nbconvert_exporter": "python",
   "pygments_lexer": "ipython3",
   "version": "3.9.7"
  },
  "orig_nbformat": 4,
  "vscode": {
   "interpreter": {
    "hash": "6c3cabcf2f29820bdd7faae982b59d335e0d215fb5382d93f3312fa3292e9b7f"
   }
  }
 },
 "nbformat": 4,
 "nbformat_minor": 2
}
